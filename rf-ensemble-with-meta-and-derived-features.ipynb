{
 "cells": [
  {
   "cell_type": "code",
   "execution_count": 1,
   "id": "56574a21",
   "metadata": {
    "_cell_guid": "b1076dfc-b9ad-4769-8c92-a6c4dae69d19",
    "_uuid": "8f2839f25d086af736a60e9eeb907d3b93b6e0e5",
    "execution": {
     "iopub.execute_input": "2024-05-29T12:05:48.153342Z",
     "iopub.status.busy": "2024-05-29T12:05:48.152903Z",
     "iopub.status.idle": "2024-05-29T12:05:55.769592Z",
     "shell.execute_reply": "2024-05-29T12:05:55.768731Z"
    },
    "papermill": {
     "duration": 7.634998,
     "end_time": "2024-05-29T12:05:55.772002",
     "exception": false,
     "start_time": "2024-05-29T12:05:48.137004",
     "status": "completed"
    },
    "tags": []
   },
   "outputs": [],
   "source": [
    "from fastai.tabular.all import *\n",
    "import pandas as pd\n",
    "from joblib import load, dump"
   ]
  },
  {
   "cell_type": "code",
   "execution_count": 2,
   "id": "ab0cd056",
   "metadata": {
    "execution": {
     "iopub.execute_input": "2024-05-29T12:05:55.801960Z",
     "iopub.status.busy": "2024-05-29T12:05:55.801507Z",
     "iopub.status.idle": "2024-05-29T12:06:02.908162Z",
     "shell.execute_reply": "2024-05-29T12:06:02.907278Z"
    },
    "papermill": {
     "duration": 7.123772,
     "end_time": "2024-05-29T12:06:02.910600",
     "exception": false,
     "start_time": "2024-05-29T12:05:55.786828",
     "status": "completed"
    },
    "tags": []
   },
   "outputs": [],
   "source": [
    "train=load(\"/kaggle/input/easy-features-for-0-86933/train.joblib\")\n",
    "test=load(\"/kaggle/input/easy-features-for-0-86933/test.joblib\")\n",
    "\n",
    "submission=pd.read_csv(\"/kaggle/input/playground-series-s4e5/sample_submission.csv\")\n",
    "\n",
    "# original=pd.read_csv(\"/kaggle/input/flood-prediction-factors/flood.csv\")\n",
    "\n",
    "# train.drop(columns=[\"id\"],inplace=True)\n",
    "# test.drop(columns=[\"id\"],inplace=True)\n",
    "\n",
    "# train=pd.concat([train,original],axis='rows')\n",
    "# train.reset_index(inplace=True,drop=True)\n",
    "\n",
    "target='FloodProbability'"
   ]
  },
  {
   "cell_type": "code",
   "execution_count": 3,
   "id": "60f4eef9",
   "metadata": {
    "execution": {
     "iopub.execute_input": "2024-05-29T12:06:02.940747Z",
     "iopub.status.busy": "2024-05-29T12:06:02.939952Z",
     "iopub.status.idle": "2024-05-29T12:06:02.974697Z",
     "shell.execute_reply": "2024-05-29T12:06:02.973740Z"
    },
    "papermill": {
     "duration": 0.052317,
     "end_time": "2024-05-29T12:06:02.976979",
     "exception": false,
     "start_time": "2024-05-29T12:06:02.924662",
     "status": "completed"
    },
    "tags": []
   },
   "outputs": [
    {
     "data": {
      "text/html": [
       "<div>\n",
       "<style scoped>\n",
       "    .dataframe tbody tr th:only-of-type {\n",
       "        vertical-align: middle;\n",
       "    }\n",
       "\n",
       "    .dataframe tbody tr th {\n",
       "        vertical-align: top;\n",
       "    }\n",
       "\n",
       "    .dataframe thead th {\n",
       "        text-align: right;\n",
       "    }\n",
       "</style>\n",
       "<table border=\"1\" class=\"dataframe\">\n",
       "  <thead>\n",
       "    <tr style=\"text-align: right;\">\n",
       "      <th></th>\n",
       "      <th>MonsoonIntensity</th>\n",
       "      <th>TopographyDrainage</th>\n",
       "      <th>RiverManagement</th>\n",
       "      <th>Deforestation</th>\n",
       "      <th>Urbanization</th>\n",
       "      <th>ClimateChange</th>\n",
       "      <th>DamsQuality</th>\n",
       "      <th>Siltation</th>\n",
       "      <th>AgriculturalPractices</th>\n",
       "      <th>Encroachments</th>\n",
       "      <th>...</th>\n",
       "      <th>cnt_6</th>\n",
       "      <th>cnt_7</th>\n",
       "      <th>cnt_8</th>\n",
       "      <th>cnt_9</th>\n",
       "      <th>cnt_10</th>\n",
       "      <th>cnt_11</th>\n",
       "      <th>cnt_12</th>\n",
       "      <th>cnt_13</th>\n",
       "      <th>cnt_14</th>\n",
       "      <th>cnt_15</th>\n",
       "    </tr>\n",
       "  </thead>\n",
       "  <tbody>\n",
       "    <tr>\n",
       "      <th>0</th>\n",
       "      <td>0.036596</td>\n",
       "      <td>1.461853</td>\n",
       "      <td>0.020239</td>\n",
       "      <td>1.483444</td>\n",
       "      <td>0.504899</td>\n",
       "      <td>-0.453407</td>\n",
       "      <td>-0.458513</td>\n",
       "      <td>-0.931012</td>\n",
       "      <td>-0.937077</td>\n",
       "      <td>-0.455265</td>\n",
       "      <td>...</td>\n",
       "      <td>1</td>\n",
       "      <td>2</td>\n",
       "      <td>2</td>\n",
       "      <td>0</td>\n",
       "      <td>0</td>\n",
       "      <td>0</td>\n",
       "      <td>0</td>\n",
       "      <td>0</td>\n",
       "      <td>0</td>\n",
       "      <td>0</td>\n",
       "    </tr>\n",
       "    <tr>\n",
       "      <th>1</th>\n",
       "      <td>0.520979</td>\n",
       "      <td>0.985815</td>\n",
       "      <td>-0.460696</td>\n",
       "      <td>-0.458921</td>\n",
       "      <td>1.461608</td>\n",
       "      <td>1.483369</td>\n",
       "      <td>-0.936917</td>\n",
       "      <td>0.033570</td>\n",
       "      <td>-0.455373</td>\n",
       "      <td>0.501500</td>\n",
       "      <td>...</td>\n",
       "      <td>2</td>\n",
       "      <td>2</td>\n",
       "      <td>2</td>\n",
       "      <td>1</td>\n",
       "      <td>0</td>\n",
       "      <td>0</td>\n",
       "      <td>0</td>\n",
       "      <td>0</td>\n",
       "      <td>0</td>\n",
       "      <td>0</td>\n",
       "    </tr>\n",
       "    <tr>\n",
       "      <th>2</th>\n",
       "      <td>0.520979</td>\n",
       "      <td>0.033737</td>\n",
       "      <td>0.501174</td>\n",
       "      <td>0.997853</td>\n",
       "      <td>-0.930165</td>\n",
       "      <td>0.999175</td>\n",
       "      <td>-1.893724</td>\n",
       "      <td>0.033570</td>\n",
       "      <td>-0.455373</td>\n",
       "      <td>0.023117</td>\n",
       "      <td>...</td>\n",
       "      <td>4</td>\n",
       "      <td>4</td>\n",
       "      <td>1</td>\n",
       "      <td>0</td>\n",
       "      <td>0</td>\n",
       "      <td>0</td>\n",
       "      <td>0</td>\n",
       "      <td>0</td>\n",
       "      <td>0</td>\n",
       "      <td>0</td>\n",
       "    </tr>\n",
       "    <tr>\n",
       "      <th>3</th>\n",
       "      <td>-0.932170</td>\n",
       "      <td>-0.442301</td>\n",
       "      <td>0.501174</td>\n",
       "      <td>0.026671</td>\n",
       "      <td>-0.451810</td>\n",
       "      <td>1.483369</td>\n",
       "      <td>-0.458513</td>\n",
       "      <td>0.998153</td>\n",
       "      <td>0.508035</td>\n",
       "      <td>1.458265</td>\n",
       "      <td>...</td>\n",
       "      <td>3</td>\n",
       "      <td>3</td>\n",
       "      <td>2</td>\n",
       "      <td>0</td>\n",
       "      <td>0</td>\n",
       "      <td>0</td>\n",
       "      <td>0</td>\n",
       "      <td>0</td>\n",
       "      <td>0</td>\n",
       "      <td>0</td>\n",
       "    </tr>\n",
       "    <tr>\n",
       "      <th>4</th>\n",
       "      <td>0.036596</td>\n",
       "      <td>-0.918340</td>\n",
       "      <td>-1.422566</td>\n",
       "      <td>0.512262</td>\n",
       "      <td>-0.451810</td>\n",
       "      <td>-0.453407</td>\n",
       "      <td>-0.936917</td>\n",
       "      <td>-0.931012</td>\n",
       "      <td>-0.937077</td>\n",
       "      <td>-0.933648</td>\n",
       "      <td>...</td>\n",
       "      <td>3</td>\n",
       "      <td>0</td>\n",
       "      <td>0</td>\n",
       "      <td>0</td>\n",
       "      <td>0</td>\n",
       "      <td>0</td>\n",
       "      <td>0</td>\n",
       "      <td>0</td>\n",
       "      <td>0</td>\n",
       "      <td>0</td>\n",
       "    </tr>\n",
       "  </tbody>\n",
       "</table>\n",
       "<p>5 rows × 70 columns</p>\n",
       "</div>"
      ],
      "text/plain": [
       "   MonsoonIntensity  TopographyDrainage  RiverManagement  Deforestation  \\\n",
       "0          0.036596            1.461853         0.020239       1.483444   \n",
       "1          0.520979            0.985815        -0.460696      -0.458921   \n",
       "2          0.520979            0.033737         0.501174       0.997853   \n",
       "3         -0.932170           -0.442301         0.501174       0.026671   \n",
       "4          0.036596           -0.918340        -1.422566       0.512262   \n",
       "\n",
       "   Urbanization  ClimateChange  DamsQuality  Siltation  AgriculturalPractices  \\\n",
       "0      0.504899      -0.453407    -0.458513  -0.931012              -0.937077   \n",
       "1      1.461608       1.483369    -0.936917   0.033570              -0.455373   \n",
       "2     -0.930165       0.999175    -1.893724   0.033570              -0.455373   \n",
       "3     -0.451810       1.483369    -0.458513   0.998153               0.508035   \n",
       "4     -0.451810      -0.453407    -0.936917  -0.931012              -0.937077   \n",
       "\n",
       "   Encroachments  ...  cnt_6  cnt_7  cnt_8  cnt_9  cnt_10  cnt_11  cnt_12  \\\n",
       "0      -0.455265  ...      1      2      2      0       0       0       0   \n",
       "1       0.501500  ...      2      2      2      1       0       0       0   \n",
       "2       0.023117  ...      4      4      1      0       0       0       0   \n",
       "3       1.458265  ...      3      3      2      0       0       0       0   \n",
       "4      -0.933648  ...      3      0      0      0       0       0       0   \n",
       "\n",
       "   cnt_13  cnt_14  cnt_15  \n",
       "0       0       0       0  \n",
       "1       0       0       0  \n",
       "2       0       0       0  \n",
       "3       0       0       0  \n",
       "4       0       0       0  \n",
       "\n",
       "[5 rows x 70 columns]"
      ]
     },
     "execution_count": 3,
     "metadata": {},
     "output_type": "execute_result"
    }
   ],
   "source": [
    "train.head()"
   ]
  },
  {
   "cell_type": "code",
   "execution_count": 4,
   "id": "3e2e8231",
   "metadata": {
    "execution": {
     "iopub.execute_input": "2024-05-29T12:06:03.008359Z",
     "iopub.status.busy": "2024-05-29T12:06:03.008054Z",
     "iopub.status.idle": "2024-05-29T12:06:03.014355Z",
     "shell.execute_reply": "2024-05-29T12:06:03.013439Z"
    },
    "papermill": {
     "duration": 0.023994,
     "end_time": "2024-05-29T12:06:03.016331",
     "exception": false,
     "start_time": "2024-05-29T12:06:02.992337",
     "status": "completed"
    },
    "tags": []
   },
   "outputs": [
    {
     "data": {
      "text/plain": [
       "Index(['MonsoonIntensity', 'TopographyDrainage', 'RiverManagement',\n",
       "       'Deforestation', 'Urbanization', 'ClimateChange', 'DamsQuality',\n",
       "       'Siltation', 'AgriculturalPractices', 'Encroachments',\n",
       "       'IneffectiveDisasterPreparedness', 'DrainageSystems',\n",
       "       'CoastalVulnerability', 'Landslides', 'Watersheds',\n",
       "       'DeterioratingInfrastructure', 'PopulationScore', 'WetlandLoss',\n",
       "       'InadequatePlanning', 'PoliticalFactors', 'FloodProbability',\n",
       "       'ClimateAnthropogenicInteraction',\n",
       "       'InfrastructurePreventionInteraction', 'sum', 'mean', 'std', 'median',\n",
       "       'mode', 'skew', 'kurt', 'cv', 'zscore', 'max', 'min', 'special1',\n",
       "       'q_25th', 'q_75th', 'Skewness_75', 'Skewness_25', '10th', '20th',\n",
       "       '30th', '40th', '50th', '60th', '70th', '80th', '90th', 'geom_mean',\n",
       "       'harm_mean', 'double', '2ndMoment', '3rdMoment', 'entropy', 'cnt_0',\n",
       "       'cnt_1', 'cnt_2', 'cnt_3', 'cnt_4', 'cnt_5', 'cnt_6', 'cnt_7', 'cnt_8',\n",
       "       'cnt_9', 'cnt_10', 'cnt_11', 'cnt_12', 'cnt_13', 'cnt_14', 'cnt_15'],\n",
       "      dtype='object')"
      ]
     },
     "execution_count": 4,
     "metadata": {},
     "output_type": "execute_result"
    }
   ],
   "source": [
    "train.columns"
   ]
  },
  {
   "cell_type": "code",
   "execution_count": 5,
   "id": "1d72f0c4",
   "metadata": {
    "execution": {
     "iopub.execute_input": "2024-05-29T12:06:03.046164Z",
     "iopub.status.busy": "2024-05-29T12:06:03.045338Z",
     "iopub.status.idle": "2024-05-29T12:06:03.433411Z",
     "shell.execute_reply": "2024-05-29T12:06:03.432026Z"
    },
    "papermill": {
     "duration": 0.406389,
     "end_time": "2024-05-29T12:06:03.436777",
     "exception": false,
     "start_time": "2024-05-29T12:06:03.030388",
     "status": "completed"
    },
    "tags": []
   },
   "outputs": [],
   "source": [
    "train.drop('special1',axis=1, inplace=True)\n"
   ]
  },
  {
   "cell_type": "code",
   "execution_count": 6,
   "id": "79ce449b",
   "metadata": {
    "execution": {
     "iopub.execute_input": "2024-05-29T12:06:03.473120Z",
     "iopub.status.busy": "2024-05-29T12:06:03.472382Z",
     "iopub.status.idle": "2024-05-29T12:06:03.735723Z",
     "shell.execute_reply": "2024-05-29T12:06:03.734947Z"
    },
    "papermill": {
     "duration": 0.284093,
     "end_time": "2024-05-29T12:06:03.738032",
     "exception": false,
     "start_time": "2024-05-29T12:06:03.453939",
     "status": "completed"
    },
    "tags": []
   },
   "outputs": [],
   "source": [
    "test.drop('special1',axis=1, inplace=True)"
   ]
  },
  {
   "cell_type": "code",
   "execution_count": 7,
   "id": "244430f6",
   "metadata": {
    "execution": {
     "iopub.execute_input": "2024-05-29T12:06:03.767808Z",
     "iopub.status.busy": "2024-05-29T12:06:03.767531Z",
     "iopub.status.idle": "2024-05-29T12:06:03.773481Z",
     "shell.execute_reply": "2024-05-29T12:06:03.772646Z"
    },
    "papermill": {
     "duration": 0.023127,
     "end_time": "2024-05-29T12:06:03.775540",
     "exception": false,
     "start_time": "2024-05-29T12:06:03.752413",
     "status": "completed"
    },
    "tags": []
   },
   "outputs": [],
   "source": [
    "# def meta_features(df, initial_features ):\n",
    "    \n",
    "#     df[original.drop(columns=[target]).columns]=df[original.drop(columns=[target]).columns].astype(np.uint8)\n",
    "#     df['fsum'] = df[initial_features].sum(axis=1) # for tree models\n",
    "#     print('comnputing f_std')\n",
    "#     df['f_std']  = df[initial_features].std(axis=1)\n",
    "#     print('comnputing f_mean')\n",
    "#     df['f_mean'] = df[initial_features].mean(axis=1)\n",
    "#     print('comnputing f_max')\n",
    "#     df['f_max']  = df[initial_features].max(axis=1)\n",
    "#     print('comnputing f_min')\n",
    "#     df['f_min']  = df[initial_features].min(axis=1)\n",
    "# #     print('comnputing f_mode')\n",
    "# #     df['f_mode'] = df[initial_features].mode(axis=1)[0]\n",
    "#     print('comnputing f_median')\n",
    "#     df['f_median'] = df[initial_features].median(axis=1)\n",
    "#     print('comnputing f_25th')\n",
    "#     df['f_25th'] = df[initial_features].quantile(0.25, axis=1)\n",
    "#     print('comnputing f_75th')\n",
    "#     df['f_75th'] = df[initial_features].quantile(0.75, axis=1)\n",
    "#     print('comnputing f_skew')\n",
    "#     df['f_skew'] = df[initial_features].skew(axis=1)\n",
    "#     print('comnputing f_kurt')\n",
    "#     df['f_kurt'] = df[initial_features].kurt(axis=1)\n",
    "#     df['special1'] = df['fsum'].isin(np.arange(72, 76)) # for linear models\n",
    "#     for i in range(10,100,10):\n",
    "#         print(f'comnputing f_{i}th')\n",
    "#         df[f'f_{i}th'] = df[initial_features].quantile(i/100, axis=1)\n",
    "#     print('comnputing f_harmonic')\n",
    "#     df['f_harmonic'] = len(initial_features) / df[initial_features].apply(lambda x: (1/x).mean(), axis=1)\n",
    "#     print('comnputing f_geometric')\n",
    "#     df['f_geometric'] = df[initial_features].apply(lambda x: x.prod()**(1/len(x)), axis=1)\n",
    "#     print('comnputing f_zscore')\n",
    "#     df['f_zscore'] = df[initial_features].apply(lambda x: (x - x.mean()) / x.std(), axis=1).mean(axis=1)\n",
    "#     print('computing Coefficient of Variation ')\n",
    "#     df['f_cv'] = df[initial_features].std(axis=1) / df[initial_features].mean(axis=1)\n",
    "#     print('computing f_Quantile Coefficients of Skewness_75')\n",
    "#     df['f_Quantile Coefficients of Skewness_75'] = (df[initial_features].quantile(0.75, axis=1) - df[initial_features].mean(axis=1)) / df[initial_features].std(axis=1)\n",
    "#     print('computing f_Quantile Coefficients of Skewness_25')\n",
    "#     df['f_Quantile Coefficients of Skewness_25'] = (df[initial_features].quantile(0.25, axis=1) - df[initial_features].mean(axis=1)) / df[initial_features].std(axis=1)\n",
    "#     print('computing f_2ndMoment')\n",
    "#     df['f_2ndMoment'] = df[initial_features].apply(lambda x: (x**2).mean(), axis=1)\n",
    "#     print('computing f_3rdMoment')\n",
    "#     df['f_3rdMoment'] = df[initial_features].apply(lambda x: (x**3).mean(), axis=1)\n",
    "#     print('computing f_entropy')\n",
    "#     df['f_entropy'] = df[initial_features].apply(lambda x: -1*(x*np.log(x)).sum(), axis=1)\n",
    "    \n",
    "#     return df\n",
    "\n",
    "# initial_features=test.columns\n",
    "# train=meta_features(train,initial_features )\n",
    "# test =meta_features(test, initial_features)"
   ]
  },
  {
   "cell_type": "code",
   "execution_count": 8,
   "id": "cebe3af9",
   "metadata": {
    "execution": {
     "iopub.execute_input": "2024-05-29T12:06:03.804730Z",
     "iopub.status.busy": "2024-05-29T12:06:03.804480Z",
     "iopub.status.idle": "2024-05-29T12:06:03.808826Z",
     "shell.execute_reply": "2024-05-29T12:06:03.808124Z"
    },
    "papermill": {
     "duration": 0.021075,
     "end_time": "2024-05-29T12:06:03.810762",
     "exception": false,
     "start_time": "2024-05-29T12:06:03.789687",
     "status": "completed"
    },
    "tags": []
   },
   "outputs": [],
   "source": [
    "# def new_features(data):\n",
    "#     data['Land_Use_Pressure'] = data['Urbanization'] + data['Deforestation'] + data['AgriculturalPractices']\n",
    "    \n",
    "#     data['Environmental_Degradation'] = data['Deforestation'] + data['Siltation'] + data['WetlandLoss'] + data['Landslides']\n",
    "    \n",
    "#     data['Infrastructure_Vulnerability'] = data['DeterioratingInfrastructure'] + data['InadequatePlanning']\n",
    "    \n",
    "#     data['Community_Preparedness'] = data['IneffectiveDisasterPreparedness'] + data['PoliticalFactors']\n",
    "    \n",
    "#     data['Hydrological_Stress'] = data['DrainageSystems'] + data['TopographyDrainage'] + data['Watersheds']\n",
    "    \n",
    "#     data['Population_Density_Vulnerable_Areas'] = data['PopulationScore'] * data['CoastalVulnerability']\n",
    "    \n",
    "#     data['Climate_Change_Impact'] = data['ClimateChange'] + data['MonsoonIntensity']\n",
    "    \n",
    "#     data['River_Health'] = data['RiverManagement'] + data['DamsQuality']\n",
    "    \n",
    "#     return data\n",
    "\n",
    "# train2=new_features(train)\n",
    "# test2 =new_features(test)"
   ]
  },
  {
   "cell_type": "code",
   "execution_count": 9,
   "id": "cc4137dd",
   "metadata": {
    "execution": {
     "iopub.execute_input": "2024-05-29T12:06:03.840714Z",
     "iopub.status.busy": "2024-05-29T12:06:03.840452Z",
     "iopub.status.idle": "2024-05-29T12:06:03.844232Z",
     "shell.execute_reply": "2024-05-29T12:06:03.843412Z"
    },
    "papermill": {
     "duration": 0.021087,
     "end_time": "2024-05-29T12:06:03.846203",
     "exception": false,
     "start_time": "2024-05-29T12:06:03.825116",
     "status": "completed"
    },
    "tags": []
   },
   "outputs": [],
   "source": [
    "# train.to_csv(\"/kaggle/working/train_meta_f.csv\")\n",
    "# test.to_csv(\"/kaggle/working/test_meta_f.csv\")"
   ]
  },
  {
   "cell_type": "code",
   "execution_count": 10,
   "id": "281e9945",
   "metadata": {
    "execution": {
     "iopub.execute_input": "2024-05-29T12:06:03.875769Z",
     "iopub.status.busy": "2024-05-29T12:06:03.875068Z",
     "iopub.status.idle": "2024-05-29T12:06:03.878786Z",
     "shell.execute_reply": "2024-05-29T12:06:03.877974Z"
    },
    "papermill": {
     "duration": 0.020125,
     "end_time": "2024-05-29T12:06:03.880694",
     "exception": false,
     "start_time": "2024-05-29T12:06:03.860569",
     "status": "completed"
    },
    "tags": []
   },
   "outputs": [],
   "source": [
    "# train2.head()"
   ]
  },
  {
   "cell_type": "code",
   "execution_count": 11,
   "id": "3200dc0e",
   "metadata": {
    "execution": {
     "iopub.execute_input": "2024-05-29T12:06:03.909903Z",
     "iopub.status.busy": "2024-05-29T12:06:03.909270Z",
     "iopub.status.idle": "2024-05-29T12:06:08.483486Z",
     "shell.execute_reply": "2024-05-29T12:06:08.482488Z"
    },
    "papermill": {
     "duration": 4.591426,
     "end_time": "2024-05-29T12:06:08.485851",
     "exception": false,
     "start_time": "2024-05-29T12:06:03.894425",
     "status": "completed"
    },
    "tags": []
   },
   "outputs": [],
   "source": [
    "cont_names,cat_names = cont_cat_split(train, dep_var='FloodProbability')\n",
    "splits = RandomSplitter(valid_pct=0.2)(range_of(train))\n",
    "\n",
    "to = TabularPandas(train, procs=[Categorify, FillMissing,Normalize],\n",
    "                   cat_names = cat_names,\n",
    "                   cont_names = cont_names,\n",
    "                   y_names='FloodProbability',\n",
    "                   y_block=RegressionBlock(),\n",
    "                   splits=splits)"
   ]
  },
  {
   "cell_type": "code",
   "execution_count": 12,
   "id": "b68a465d",
   "metadata": {
    "execution": {
     "iopub.execute_input": "2024-05-29T12:06:08.516842Z",
     "iopub.status.busy": "2024-05-29T12:06:08.516515Z",
     "iopub.status.idle": "2024-05-29T12:06:09.965370Z",
     "shell.execute_reply": "2024-05-29T12:06:09.964449Z"
    },
    "papermill": {
     "duration": 1.466947,
     "end_time": "2024-05-29T12:06:09.967917",
     "exception": false,
     "start_time": "2024-05-29T12:06:08.500970",
     "status": "completed"
    },
    "tags": []
   },
   "outputs": [],
   "source": [
    "dls = to.dataloaders(bs=1024)\n",
    "test_dl = dls.test_dl(test)"
   ]
  },
  {
   "cell_type": "code",
   "execution_count": 13,
   "id": "c5102876",
   "metadata": {
    "execution": {
     "iopub.execute_input": "2024-05-29T12:06:09.999142Z",
     "iopub.status.busy": "2024-05-29T12:06:09.998736Z",
     "iopub.status.idle": "2024-05-29T12:06:10.002788Z",
     "shell.execute_reply": "2024-05-29T12:06:10.001797Z"
    },
    "papermill": {
     "duration": 0.021592,
     "end_time": "2024-05-29T12:06:10.004865",
     "exception": false,
     "start_time": "2024-05-29T12:06:09.983273",
     "status": "completed"
    },
    "tags": []
   },
   "outputs": [],
   "source": [
    "# dls = TabularDataLoaders.from_df(df, y_names=\"FloodProbability\",bs=1024)"
   ]
  },
  {
   "cell_type": "code",
   "execution_count": 14,
   "id": "c1e52f9d",
   "metadata": {
    "execution": {
     "iopub.execute_input": "2024-05-29T12:06:10.035168Z",
     "iopub.status.busy": "2024-05-29T12:06:10.034858Z",
     "iopub.status.idle": "2024-05-29T12:06:10.038688Z",
     "shell.execute_reply": "2024-05-29T12:06:10.037837Z"
    },
    "papermill": {
     "duration": 0.02116,
     "end_time": "2024-05-29T12:06:10.040578",
     "exception": false,
     "start_time": "2024-05-29T12:06:10.019418",
     "status": "completed"
    },
    "tags": []
   },
   "outputs": [],
   "source": [
    "# dls.show_batch()"
   ]
  },
  {
   "cell_type": "code",
   "execution_count": 15,
   "id": "95274079",
   "metadata": {
    "execution": {
     "iopub.execute_input": "2024-05-29T12:06:10.070788Z",
     "iopub.status.busy": "2024-05-29T12:06:10.070496Z",
     "iopub.status.idle": "2024-05-29T12:06:10.074097Z",
     "shell.execute_reply": "2024-05-29T12:06:10.073298Z"
    },
    "papermill": {
     "duration": 0.02096,
     "end_time": "2024-05-29T12:06:10.076039",
     "exception": false,
     "start_time": "2024-05-29T12:06:10.055079",
     "status": "completed"
    },
    "tags": []
   },
   "outputs": [],
   "source": [
    "# learn = tabular_learner(dls, metrics=[accuracy,R2Score()],lr=0.001)"
   ]
  },
  {
   "cell_type": "code",
   "execution_count": 16,
   "id": "805e4158",
   "metadata": {
    "execution": {
     "iopub.execute_input": "2024-05-29T12:06:10.104904Z",
     "iopub.status.busy": "2024-05-29T12:06:10.104651Z",
     "iopub.status.idle": "2024-05-29T12:06:10.108278Z",
     "shell.execute_reply": "2024-05-29T12:06:10.107433Z"
    },
    "papermill": {
     "duration": 0.020218,
     "end_time": "2024-05-29T12:06:10.110256",
     "exception": false,
     "start_time": "2024-05-29T12:06:10.090038",
     "status": "completed"
    },
    "tags": []
   },
   "outputs": [],
   "source": [
    "#  suggest_funcs = (minimum, steep, valley, slide)\n",
    "#  learn.lr_find(suggest_funcs=suggest_funcs)"
   ]
  },
  {
   "cell_type": "code",
   "execution_count": 17,
   "id": "9d7d43ef",
   "metadata": {
    "execution": {
     "iopub.execute_input": "2024-05-29T12:06:10.138867Z",
     "iopub.status.busy": "2024-05-29T12:06:10.138605Z",
     "iopub.status.idle": "2024-05-29T12:06:10.142224Z",
     "shell.execute_reply": "2024-05-29T12:06:10.141396Z"
    },
    "papermill": {
     "duration": 0.020185,
     "end_time": "2024-05-29T12:06:10.144161",
     "exception": false,
     "start_time": "2024-05-29T12:06:10.123976",
     "status": "completed"
    },
    "tags": []
   },
   "outputs": [],
   "source": [
    "# learn.fine_tune(15)"
   ]
  },
  {
   "cell_type": "code",
   "execution_count": 18,
   "id": "9418fe7f",
   "metadata": {
    "execution": {
     "iopub.execute_input": "2024-05-29T12:06:10.172836Z",
     "iopub.status.busy": "2024-05-29T12:06:10.172578Z",
     "iopub.status.idle": "2024-05-29T12:06:10.176175Z",
     "shell.execute_reply": "2024-05-29T12:06:10.175251Z"
    },
    "papermill": {
     "duration": 0.019926,
     "end_time": "2024-05-29T12:06:10.178010",
     "exception": false,
     "start_time": "2024-05-29T12:06:10.158084",
     "status": "completed"
    },
    "tags": []
   },
   "outputs": [],
   "source": [
    "# test_df = pd.read_csv('/kaggle/input/playground-series-s4e5/test.csv',index_col='id')\n",
    "# dl = learn.dls.test_dl(test_df)"
   ]
  },
  {
   "cell_type": "code",
   "execution_count": 19,
   "id": "e1cac6e4",
   "metadata": {
    "execution": {
     "iopub.execute_input": "2024-05-29T12:06:10.207029Z",
     "iopub.status.busy": "2024-05-29T12:06:10.206774Z",
     "iopub.status.idle": "2024-05-29T12:06:10.210096Z",
     "shell.execute_reply": "2024-05-29T12:06:10.209307Z"
    },
    "papermill": {
     "duration": 0.019574,
     "end_time": "2024-05-29T12:06:10.211882",
     "exception": false,
     "start_time": "2024-05-29T12:06:10.192308",
     "status": "completed"
    },
    "tags": []
   },
   "outputs": [],
   "source": [
    "# preds = learn.get_preds(dl=test_dl)\n",
    "# preds"
   ]
  },
  {
   "cell_type": "code",
   "execution_count": 20,
   "id": "0912c53c",
   "metadata": {
    "execution": {
     "iopub.execute_input": "2024-05-29T12:06:10.240929Z",
     "iopub.status.busy": "2024-05-29T12:06:10.240672Z",
     "iopub.status.idle": "2024-05-29T12:06:10.244350Z",
     "shell.execute_reply": "2024-05-29T12:06:10.243501Z"
    },
    "papermill": {
     "duration": 0.020536,
     "end_time": "2024-05-29T12:06:10.246318",
     "exception": false,
     "start_time": "2024-05-29T12:06:10.225782",
     "status": "completed"
    },
    "tags": []
   },
   "outputs": [],
   "source": [
    "# preds1 = preds[0].cpu().numpy()"
   ]
  },
  {
   "cell_type": "code",
   "execution_count": 21,
   "id": "57122e45",
   "metadata": {
    "execution": {
     "iopub.execute_input": "2024-05-29T12:06:10.275886Z",
     "iopub.status.busy": "2024-05-29T12:06:10.275343Z",
     "iopub.status.idle": "2024-05-29T12:06:10.279448Z",
     "shell.execute_reply": "2024-05-29T12:06:10.278591Z"
    },
    "papermill": {
     "duration": 0.02088,
     "end_time": "2024-05-29T12:06:10.281458",
     "exception": false,
     "start_time": "2024-05-29T12:06:10.260578",
     "status": "completed"
    },
    "tags": []
   },
   "outputs": [],
   "source": [
    "# to = TabularPandas(train2, procs=[Categorify, FillMissing,Normalize],\n",
    "#                    cat_names = cat_names,\n",
    "#                    cont_names = cont_names,\n",
    "#                    y_names='FloodProbability',\n",
    "#                    y_block=RegressionBlock(),\n",
    "#                    splits=splits)"
   ]
  },
  {
   "cell_type": "code",
   "execution_count": 22,
   "id": "ee08dcde",
   "metadata": {
    "execution": {
     "iopub.execute_input": "2024-05-29T12:06:10.310289Z",
     "iopub.status.busy": "2024-05-29T12:06:10.310017Z",
     "iopub.status.idle": "2024-05-29T12:06:11.266921Z",
     "shell.execute_reply": "2024-05-29T12:06:11.265729Z"
    },
    "papermill": {
     "duration": 0.974733,
     "end_time": "2024-05-29T12:06:11.270121",
     "exception": false,
     "start_time": "2024-05-29T12:06:10.295388",
     "status": "completed"
    },
    "tags": []
   },
   "outputs": [],
   "source": [
    "X_train, y_train = to.train.xs, to.train.ys.values.ravel()\n",
    "X_test, y_test = to.valid.xs, to.valid.ys.values.ravel()"
   ]
  },
  {
   "cell_type": "code",
   "execution_count": 23,
   "id": "048968fc",
   "metadata": {
    "execution": {
     "iopub.execute_input": "2024-05-29T12:06:11.345709Z",
     "iopub.status.busy": "2024-05-29T12:06:11.345354Z",
     "iopub.status.idle": "2024-05-29T12:06:11.558440Z",
     "shell.execute_reply": "2024-05-29T12:06:11.557511Z"
    },
    "papermill": {
     "duration": 0.231316,
     "end_time": "2024-05-29T12:06:11.561225",
     "exception": false,
     "start_time": "2024-05-29T12:06:11.329909",
     "status": "completed"
    },
    "tags": []
   },
   "outputs": [],
   "source": [
    "from sklearn.ensemble import RandomForestRegressor\n",
    "def rf(xs, y, n_estimators=40, max_samples=200000,\n",
    "       max_features=0.5, min_samples_leaf=5, **kwargs):\n",
    "    return RandomForestRegressor(n_jobs=-1, n_estimators=n_estimators,\n",
    "        max_samples=max_samples, max_features=max_features,\n",
    "        min_samples_leaf=min_samples_leaf, oob_score=True).fit(xs, y)"
   ]
  },
  {
   "cell_type": "code",
   "execution_count": 24,
   "id": "a5714768",
   "metadata": {
    "execution": {
     "iopub.execute_input": "2024-05-29T12:06:11.597708Z",
     "iopub.status.busy": "2024-05-29T12:06:11.597334Z",
     "iopub.status.idle": "2024-05-29T12:06:11.602504Z",
     "shell.execute_reply": "2024-05-29T12:06:11.601622Z"
    },
    "papermill": {
     "duration": 0.023113,
     "end_time": "2024-05-29T12:06:11.604777",
     "exception": false,
     "start_time": "2024-05-29T12:06:11.581664",
     "status": "completed"
    },
    "tags": []
   },
   "outputs": [],
   "source": [
    "from sklearn.metrics import r2_score\n",
    "\n",
    "def cal_score(m,X,y): \n",
    "    preds = m.predict(X)\n",
    "    return r2_score(y,preds)"
   ]
  },
  {
   "cell_type": "code",
   "execution_count": 25,
   "id": "35be5c5f",
   "metadata": {
    "execution": {
     "iopub.execute_input": "2024-05-29T12:06:11.635652Z",
     "iopub.status.busy": "2024-05-29T12:06:11.635362Z",
     "iopub.status.idle": "2024-05-29T12:08:36.669525Z",
     "shell.execute_reply": "2024-05-29T12:08:36.668573Z"
    },
    "papermill": {
     "duration": 145.051924,
     "end_time": "2024-05-29T12:08:36.672227",
     "exception": false,
     "start_time": "2024-05-29T12:06:11.620303",
     "status": "completed"
    },
    "tags": []
   },
   "outputs": [],
   "source": [
    "m_rf1 = rf(X_train, y_train,n_estimators=80,max_samples=200000,\n",
    "       max_features=0.4, min_samples_leaf=4);\n"
   ]
  },
  {
   "cell_type": "code",
   "execution_count": 26,
   "id": "1106ad5e",
   "metadata": {
    "execution": {
     "iopub.execute_input": "2024-05-29T12:08:36.701500Z",
     "iopub.status.busy": "2024-05-29T12:08:36.701154Z",
     "iopub.status.idle": "2024-05-29T12:08:38.923719Z",
     "shell.execute_reply": "2024-05-29T12:08:38.922727Z"
    },
    "papermill": {
     "duration": 2.239758,
     "end_time": "2024-05-29T12:08:38.926215",
     "exception": false,
     "start_time": "2024-05-29T12:08:36.686457",
     "status": "completed"
    },
    "tags": []
   },
   "outputs": [
    {
     "data": {
      "text/plain": [
       "0.8688571141205534"
      ]
     },
     "execution_count": 26,
     "metadata": {},
     "output_type": "execute_result"
    }
   ],
   "source": [
    "score = cal_score(m_rf1,X_test,y_test)\n",
    "score"
   ]
  },
  {
   "cell_type": "code",
   "execution_count": 27,
   "id": "929c838c",
   "metadata": {
    "execution": {
     "iopub.execute_input": "2024-05-29T12:08:38.959045Z",
     "iopub.status.busy": "2024-05-29T12:08:38.958486Z",
     "iopub.status.idle": "2024-05-29T12:12:17.592629Z",
     "shell.execute_reply": "2024-05-29T12:12:17.591724Z"
    },
    "papermill": {
     "duration": 218.652408,
     "end_time": "2024-05-29T12:12:17.595440",
     "exception": false,
     "start_time": "2024-05-29T12:08:38.943032",
     "status": "completed"
    },
    "tags": []
   },
   "outputs": [],
   "source": [
    "m_rf2 = rf(X_train, y_train,n_estimators=120,max_samples=200000,\n",
    "       max_features=0.4, min_samples_leaf=4);"
   ]
  },
  {
   "cell_type": "code",
   "execution_count": 28,
   "id": "7f491cdb",
   "metadata": {
    "execution": {
     "iopub.execute_input": "2024-05-29T12:12:17.628036Z",
     "iopub.status.busy": "2024-05-29T12:12:17.627363Z",
     "iopub.status.idle": "2024-05-29T12:12:20.999663Z",
     "shell.execute_reply": "2024-05-29T12:12:20.998674Z"
    },
    "papermill": {
     "duration": 3.389866,
     "end_time": "2024-05-29T12:12:21.001820",
     "exception": false,
     "start_time": "2024-05-29T12:12:17.611954",
     "status": "completed"
    },
    "tags": []
   },
   "outputs": [
    {
     "data": {
      "text/plain": [
       "0.8691571793786171"
      ]
     },
     "execution_count": 28,
     "metadata": {},
     "output_type": "execute_result"
    }
   ],
   "source": [
    "score = cal_score(m_rf2,X_test,y_test)\n",
    "score"
   ]
  },
  {
   "cell_type": "code",
   "execution_count": 29,
   "id": "36d2cb49",
   "metadata": {
    "execution": {
     "iopub.execute_input": "2024-05-29T12:12:21.031946Z",
     "iopub.status.busy": "2024-05-29T12:12:21.031643Z",
     "iopub.status.idle": "2024-05-29T12:17:14.596110Z",
     "shell.execute_reply": "2024-05-29T12:17:14.594944Z"
    },
    "papermill": {
     "duration": 293.582469,
     "end_time": "2024-05-29T12:17:14.598790",
     "exception": false,
     "start_time": "2024-05-29T12:12:21.016321",
     "status": "completed"
    },
    "tags": []
   },
   "outputs": [],
   "source": [
    "m_rf3 = rf(X_train, y_train,n_estimators=160,max_samples=200000,\n",
    "       max_features=0.4, min_samples_leaf=4);"
   ]
  },
  {
   "cell_type": "code",
   "execution_count": 30,
   "id": "5312cfd7",
   "metadata": {
    "execution": {
     "iopub.execute_input": "2024-05-29T12:17:14.630166Z",
     "iopub.status.busy": "2024-05-29T12:17:14.629462Z",
     "iopub.status.idle": "2024-05-29T12:17:19.074446Z",
     "shell.execute_reply": "2024-05-29T12:17:19.073458Z"
    },
    "papermill": {
     "duration": 4.462868,
     "end_time": "2024-05-29T12:17:19.076803",
     "exception": false,
     "start_time": "2024-05-29T12:17:14.613935",
     "status": "completed"
    },
    "tags": []
   },
   "outputs": [
    {
     "data": {
      "text/plain": [
       "0.8693113611333294"
      ]
     },
     "execution_count": 30,
     "metadata": {},
     "output_type": "execute_result"
    }
   ],
   "source": [
    "score = cal_score(m_rf3,X_test,y_test)\n",
    "score"
   ]
  },
  {
   "cell_type": "code",
   "execution_count": 31,
   "id": "b63dfb50",
   "metadata": {
    "execution": {
     "iopub.execute_input": "2024-05-29T12:17:19.110340Z",
     "iopub.status.busy": "2024-05-29T12:17:19.109556Z",
     "iopub.status.idle": "2024-05-29T12:23:38.846022Z",
     "shell.execute_reply": "2024-05-29T12:23:38.844981Z"
    },
    "papermill": {
     "duration": 379.755528,
     "end_time": "2024-05-29T12:23:38.848510",
     "exception": false,
     "start_time": "2024-05-29T12:17:19.092982",
     "status": "completed"
    },
    "tags": []
   },
   "outputs": [],
   "source": [
    "m_rf4 = rf(X_train, y_train,n_estimators=200,max_samples=200000,\n",
    "       max_features=0.4, min_samples_leaf=3);"
   ]
  },
  {
   "cell_type": "code",
   "execution_count": 32,
   "id": "bdfb0897",
   "metadata": {
    "execution": {
     "iopub.execute_input": "2024-05-29T12:23:38.879286Z",
     "iopub.status.busy": "2024-05-29T12:23:38.878927Z",
     "iopub.status.idle": "2024-05-29T12:23:44.743054Z",
     "shell.execute_reply": "2024-05-29T12:23:44.742091Z"
    },
    "papermill": {
     "duration": 5.881957,
     "end_time": "2024-05-29T12:23:44.745305",
     "exception": false,
     "start_time": "2024-05-29T12:23:38.863348",
     "status": "completed"
    },
    "tags": []
   },
   "outputs": [
    {
     "data": {
      "text/plain": [
       "0.8692965951597326"
      ]
     },
     "execution_count": 32,
     "metadata": {},
     "output_type": "execute_result"
    }
   ],
   "source": [
    "score = cal_score(m_rf4,X_test,y_test)\n",
    "score"
   ]
  },
  {
   "cell_type": "code",
   "execution_count": 33,
   "id": "7b9d6fb6",
   "metadata": {
    "execution": {
     "iopub.execute_input": "2024-05-29T12:23:44.776023Z",
     "iopub.status.busy": "2024-05-29T12:23:44.775353Z",
     "iopub.status.idle": "2024-05-29T12:29:08.539083Z",
     "shell.execute_reply": "2024-05-29T12:29:08.537983Z"
    },
    "papermill": {
     "duration": 323.781533,
     "end_time": "2024-05-29T12:29:08.541602",
     "exception": false,
     "start_time": "2024-05-29T12:23:44.760069",
     "status": "completed"
    },
    "tags": []
   },
   "outputs": [],
   "source": [
    "m_rf5 = rf(X_train, y_train,n_estimators=180,max_samples=200000,\n",
    "       max_features=0.4, min_samples_leaf=4);"
   ]
  },
  {
   "cell_type": "code",
   "execution_count": 34,
   "id": "68895599",
   "metadata": {
    "execution": {
     "iopub.execute_input": "2024-05-29T12:29:08.573051Z",
     "iopub.status.busy": "2024-05-29T12:29:08.572478Z",
     "iopub.status.idle": "2024-05-29T12:29:14.200289Z",
     "shell.execute_reply": "2024-05-29T12:29:14.199223Z"
    },
    "papermill": {
     "duration": 5.645752,
     "end_time": "2024-05-29T12:29:14.202554",
     "exception": false,
     "start_time": "2024-05-29T12:29:08.556802",
     "status": "completed"
    },
    "tags": []
   },
   "outputs": [
    {
     "data": {
      "text/plain": [
       "0.8693499166252744"
      ]
     },
     "execution_count": 34,
     "metadata": {},
     "output_type": "execute_result"
    }
   ],
   "source": [
    "score = cal_score(m_rf5,X_test,y_test)\n",
    "score"
   ]
  },
  {
   "cell_type": "code",
   "execution_count": 35,
   "id": "24ddc8e1",
   "metadata": {
    "execution": {
     "iopub.execute_input": "2024-05-29T12:29:14.234920Z",
     "iopub.status.busy": "2024-05-29T12:29:14.234622Z",
     "iopub.status.idle": "2024-05-29T12:31:02.530375Z",
     "shell.execute_reply": "2024-05-29T12:31:02.529289Z"
    },
    "papermill": {
     "duration": 108.3147,
     "end_time": "2024-05-29T12:31:02.533153",
     "exception": false,
     "start_time": "2024-05-29T12:29:14.218453",
     "status": "completed"
    },
    "tags": []
   },
   "outputs": [],
   "source": [
    "m_rf5 = rf(X_train, y_train,n_estimators=60,max_samples=200000,\n",
    "       max_features=0.4, min_samples_leaf=4);"
   ]
  },
  {
   "cell_type": "code",
   "execution_count": 36,
   "id": "98d07e03",
   "metadata": {
    "execution": {
     "iopub.execute_input": "2024-05-29T12:31:02.566827Z",
     "iopub.status.busy": "2024-05-29T12:31:02.566142Z",
     "iopub.status.idle": "2024-05-29T12:31:04.391976Z",
     "shell.execute_reply": "2024-05-29T12:31:04.391083Z"
    },
    "papermill": {
     "duration": 1.844475,
     "end_time": "2024-05-29T12:31:04.394080",
     "exception": false,
     "start_time": "2024-05-29T12:31:02.549605",
     "status": "completed"
    },
    "tags": []
   },
   "outputs": [
    {
     "data": {
      "text/plain": [
       "0.8684359349260513"
      ]
     },
     "execution_count": 36,
     "metadata": {},
     "output_type": "execute_result"
    }
   ],
   "source": [
    "score = cal_score(m_rf5,X_test,y_test)\n",
    "score"
   ]
  },
  {
   "cell_type": "code",
   "execution_count": 37,
   "id": "7286ebf6",
   "metadata": {
    "execution": {
     "iopub.execute_input": "2024-05-29T12:31:04.424858Z",
     "iopub.status.busy": "2024-05-29T12:31:04.424572Z",
     "iopub.status.idle": "2024-05-29T12:31:58.511900Z",
     "shell.execute_reply": "2024-05-29T12:31:58.510813Z"
    },
    "papermill": {
     "duration": 54.10583,
     "end_time": "2024-05-29T12:31:58.514718",
     "exception": false,
     "start_time": "2024-05-29T12:31:04.408888",
     "status": "completed"
    },
    "tags": []
   },
   "outputs": [],
   "source": [
    "preds1 = m_rf1.predict(test_dl.xs)\n",
    "preds2 = m_rf2.predict(test_dl.xs)\n",
    "preds3 = m_rf3.predict(test_dl.xs)\n",
    "preds4 = m_rf4.predict(test_dl.xs)\n"
   ]
  },
  {
   "cell_type": "code",
   "execution_count": 38,
   "id": "c70b09e3",
   "metadata": {
    "execution": {
     "iopub.execute_input": "2024-05-29T12:31:58.546340Z",
     "iopub.status.busy": "2024-05-29T12:31:58.545573Z",
     "iopub.status.idle": "2024-05-29T12:32:32.841937Z",
     "shell.execute_reply": "2024-05-29T12:32:32.841092Z"
    },
    "papermill": {
     "duration": 34.314777,
     "end_time": "2024-05-29T12:32:32.844489",
     "exception": false,
     "start_time": "2024-05-29T12:31:58.529712",
     "status": "completed"
    },
    "tags": []
   },
   "outputs": [],
   "source": [
    "preds6 = m_rf4.predict(test_dl.xs)\n",
    "preds7 = m_rf3.predict(test_dl.xs)\n"
   ]
  },
  {
   "cell_type": "code",
   "execution_count": 39,
   "id": "dfdd2dd2",
   "metadata": {
    "execution": {
     "iopub.execute_input": "2024-05-29T12:32:32.877178Z",
     "iopub.status.busy": "2024-05-29T12:32:32.876882Z",
     "iopub.status.idle": "2024-05-29T12:32:35.126895Z",
     "shell.execute_reply": "2024-05-29T12:32:35.126059Z"
    },
    "papermill": {
     "duration": 2.268585,
     "end_time": "2024-05-29T12:32:35.129145",
     "exception": false,
     "start_time": "2024-05-29T12:32:32.860560",
     "status": "completed"
    },
    "tags": []
   },
   "outputs": [],
   "source": [
    "sub = pd.read_csv(\"/kaggle/input/playground-series-s4e5/sample_submission.csv\")\n",
    "sub['FloodProbability'] = (preds1 + preds2 + preds3 + preds4 + preds6 + preds7 ) / 6\n",
    "\n",
    "sub.to_csv(\"/kaggle/working/submission_rf_en_6.csv\",index=False)"
   ]
  },
  {
   "cell_type": "code",
   "execution_count": 40,
   "id": "bffc8717",
   "metadata": {
    "execution": {
     "iopub.execute_input": "2024-05-29T12:32:35.160649Z",
     "iopub.status.busy": "2024-05-29T12:32:35.159961Z",
     "iopub.status.idle": "2024-05-29T12:32:35.164277Z",
     "shell.execute_reply": "2024-05-29T12:32:35.163417Z"
    },
    "papermill": {
     "duration": 0.022008,
     "end_time": "2024-05-29T12:32:35.166183",
     "exception": false,
     "start_time": "2024-05-29T12:32:35.144175",
     "status": "completed"
    },
    "tags": []
   },
   "outputs": [],
   "source": [
    "# from xgboost import XGBRegressor\n",
    "\n",
    "# xgb = XGBRegressor(\n",
    "#     max_depth=13,\n",
    "#     learning_rate=0.22472048294428892,\n",
    "#     n_estimators=767,\n",
    "#     min_child_weight=10,\n",
    "#     gamma=8.58031910185836e-07,\n",
    "#     subsample=0.8936985751131682,\n",
    "#     colsample_bytree=0.04050040446078567,\n",
    "#     reg_alpha=0.16025160863896398,\n",
    "#     reg_lambda=6.875124639971543e-08,\n",
    "# )\n",
    "\n",
    "# xgb.fit(X_train, y_train)"
   ]
  },
  {
   "cell_type": "code",
   "execution_count": 41,
   "id": "3b44c9e9",
   "metadata": {
    "execution": {
     "iopub.execute_input": "2024-05-29T12:32:35.196806Z",
     "iopub.status.busy": "2024-05-29T12:32:35.196526Z",
     "iopub.status.idle": "2024-05-29T12:32:35.200113Z",
     "shell.execute_reply": "2024-05-29T12:32:35.199301Z"
    },
    "papermill": {
     "duration": 0.021027,
     "end_time": "2024-05-29T12:32:35.201997",
     "exception": false,
     "start_time": "2024-05-29T12:32:35.180970",
     "status": "completed"
    },
    "tags": []
   },
   "outputs": [],
   "source": [
    "# score = cal_score(xgb,X_test,y_test)\n",
    "# score"
   ]
  },
  {
   "cell_type": "code",
   "execution_count": 42,
   "id": "aa2fffef",
   "metadata": {
    "execution": {
     "iopub.execute_input": "2024-05-29T12:32:35.232628Z",
     "iopub.status.busy": "2024-05-29T12:32:35.232350Z",
     "iopub.status.idle": "2024-05-29T12:32:35.236408Z",
     "shell.execute_reply": "2024-05-29T12:32:35.235429Z"
    },
    "papermill": {
     "duration": 0.021468,
     "end_time": "2024-05-29T12:32:35.238257",
     "exception": false,
     "start_time": "2024-05-29T12:32:35.216789",
     "status": "completed"
    },
    "tags": []
   },
   "outputs": [],
   "source": [
    "\n",
    "# from catboost import CatBoostRegressor\n",
    "\n",
    "# cat = CatBoostRegressor(\n",
    "#     iterations=950,\n",
    "#     learning_rate=0.07024611544300416,\n",
    "#     colsample_bylevel=0.32374524982071545,\n",
    "#     min_data_in_leaf=69,\n",
    "#     depth=10,\n",
    "#     l2_leaf_reg=5.938240087759686,\n",
    "# )\n",
    "\n",
    "# cat.fit(X_train, y_train)"
   ]
  },
  {
   "cell_type": "code",
   "execution_count": 43,
   "id": "378084d4",
   "metadata": {
    "execution": {
     "iopub.execute_input": "2024-05-29T12:32:35.269358Z",
     "iopub.status.busy": "2024-05-29T12:32:35.269083Z",
     "iopub.status.idle": "2024-05-29T12:32:35.272647Z",
     "shell.execute_reply": "2024-05-29T12:32:35.271806Z"
    },
    "papermill": {
     "duration": 0.020987,
     "end_time": "2024-05-29T12:32:35.274434",
     "exception": false,
     "start_time": "2024-05-29T12:32:35.253447",
     "status": "completed"
    },
    "tags": []
   },
   "outputs": [],
   "source": [
    "# score = cal_score(xgb,X_test,y_test)\n",
    "# score"
   ]
  },
  {
   "cell_type": "code",
   "execution_count": 44,
   "id": "4b2aa0fb",
   "metadata": {
    "execution": {
     "iopub.execute_input": "2024-05-29T12:32:35.304528Z",
     "iopub.status.busy": "2024-05-29T12:32:35.304284Z",
     "iopub.status.idle": "2024-05-29T12:32:35.307837Z",
     "shell.execute_reply": "2024-05-29T12:32:35.307016Z"
    },
    "papermill": {
     "duration": 0.020754,
     "end_time": "2024-05-29T12:32:35.309639",
     "exception": false,
     "start_time": "2024-05-29T12:32:35.288885",
     "status": "completed"
    },
    "tags": []
   },
   "outputs": [],
   "source": [
    "# preds3 = xgb.predict(test_dl.xs)\n",
    "# preds3"
   ]
  },
  {
   "cell_type": "code",
   "execution_count": 45,
   "id": "6ba7fa16",
   "metadata": {
    "execution": {
     "iopub.execute_input": "2024-05-29T12:32:35.339921Z",
     "iopub.status.busy": "2024-05-29T12:32:35.339663Z",
     "iopub.status.idle": "2024-05-29T12:32:35.343203Z",
     "shell.execute_reply": "2024-05-29T12:32:35.342386Z"
    },
    "papermill": {
     "duration": 0.020869,
     "end_time": "2024-05-29T12:32:35.345088",
     "exception": false,
     "start_time": "2024-05-29T12:32:35.324219",
     "status": "completed"
    },
    "tags": []
   },
   "outputs": [],
   "source": [
    "# preds4 = cat.predict(test_dl.xs)\n",
    "# preds4"
   ]
  },
  {
   "cell_type": "code",
   "execution_count": 46,
   "id": "dfa60a01",
   "metadata": {
    "execution": {
     "iopub.execute_input": "2024-05-29T12:32:35.375265Z",
     "iopub.status.busy": "2024-05-29T12:32:35.374981Z",
     "iopub.status.idle": "2024-05-29T12:32:35.378599Z",
     "shell.execute_reply": "2024-05-29T12:32:35.377775Z"
    },
    "papermill": {
     "duration": 0.020649,
     "end_time": "2024-05-29T12:32:35.380390",
     "exception": false,
     "start_time": "2024-05-29T12:32:35.359741",
     "status": "completed"
    },
    "tags": []
   },
   "outputs": [],
   "source": [
    "# preds1 = preds1.squeeze()"
   ]
  },
  {
   "cell_type": "code",
   "execution_count": 47,
   "id": "2a6b11a9",
   "metadata": {
    "execution": {
     "iopub.execute_input": "2024-05-29T12:32:35.411357Z",
     "iopub.status.busy": "2024-05-29T12:32:35.410424Z",
     "iopub.status.idle": "2024-05-29T12:32:35.414266Z",
     "shell.execute_reply": "2024-05-29T12:32:35.413545Z"
    },
    "papermill": {
     "duration": 0.021297,
     "end_time": "2024-05-29T12:32:35.416137",
     "exception": false,
     "start_time": "2024-05-29T12:32:35.394840",
     "status": "completed"
    },
    "tags": []
   },
   "outputs": [],
   "source": [
    "\n",
    "# preds_en = np.stack((preds1,preds2,preds3,preds4))\n",
    "# preds_en = np.mean(preds_en,axis=0)\n",
    "# preds_en"
   ]
  },
  {
   "cell_type": "code",
   "execution_count": 48,
   "id": "3c43f4b3",
   "metadata": {
    "execution": {
     "iopub.execute_input": "2024-05-29T12:32:35.446859Z",
     "iopub.status.busy": "2024-05-29T12:32:35.446584Z",
     "iopub.status.idle": "2024-05-29T12:32:35.450121Z",
     "shell.execute_reply": "2024-05-29T12:32:35.449354Z"
    },
    "papermill": {
     "duration": 0.021118,
     "end_time": "2024-05-29T12:32:35.452071",
     "exception": false,
     "start_time": "2024-05-29T12:32:35.430953",
     "status": "completed"
    },
    "tags": []
   },
   "outputs": [],
   "source": [
    "# sub = pd.read_csv(\"/kaggle/input/playground-series-s4e5/sample_submission.csv\")\n",
    "# sub['FloodProbability'] = (preds1 + preds2 + preds3 + preds4) /4\n",
    "\n",
    "# sub.to_csv(\"/kaggle/working/submission_en.csv\",index=False)"
   ]
  },
  {
   "cell_type": "code",
   "execution_count": null,
   "id": "a98e1ad3",
   "metadata": {
    "execution": {
     "iopub.execute_input": "2024-05-14T19:00:27.102245Z",
     "iopub.status.busy": "2024-05-14T19:00:27.101292Z",
     "iopub.status.idle": "2024-05-14T19:00:29.47858Z",
     "shell.execute_reply": "2024-05-14T19:00:29.477712Z",
     "shell.execute_reply.started": "2024-05-14T19:00:27.102208Z"
    },
    "papermill": {
     "duration": 0.014232,
     "end_time": "2024-05-29T12:32:35.481158",
     "exception": false,
     "start_time": "2024-05-29T12:32:35.466926",
     "status": "completed"
    },
    "tags": []
   },
   "outputs": [],
   "source": []
  },
  {
   "cell_type": "code",
   "execution_count": 49,
   "id": "81e623f2",
   "metadata": {
    "execution": {
     "iopub.execute_input": "2024-05-29T12:32:35.511871Z",
     "iopub.status.busy": "2024-05-29T12:32:35.511587Z",
     "iopub.status.idle": "2024-05-29T12:32:35.515198Z",
     "shell.execute_reply": "2024-05-29T12:32:35.514513Z"
    },
    "papermill": {
     "duration": 0.021287,
     "end_time": "2024-05-29T12:32:35.517125",
     "exception": false,
     "start_time": "2024-05-29T12:32:35.495838",
     "status": "completed"
    },
    "tags": []
   },
   "outputs": [],
   "source": [
    "# def rf_feat_importance(m, df):\n",
    "#     return pd.DataFrame({'cols':df.columns, 'imp':m.feature_importances_}\n",
    "#                        ).sort_values('imp', ascending=False)"
   ]
  },
  {
   "cell_type": "code",
   "execution_count": 50,
   "id": "a3e0cf9a",
   "metadata": {
    "execution": {
     "iopub.execute_input": "2024-05-29T12:32:35.547327Z",
     "iopub.status.busy": "2024-05-29T12:32:35.547037Z",
     "iopub.status.idle": "2024-05-29T12:32:35.550522Z",
     "shell.execute_reply": "2024-05-29T12:32:35.549760Z"
    },
    "papermill": {
     "duration": 0.020434,
     "end_time": "2024-05-29T12:32:35.552329",
     "exception": false,
     "start_time": "2024-05-29T12:32:35.531895",
     "status": "completed"
    },
    "tags": []
   },
   "outputs": [],
   "source": [
    "# fi = rf_feat_importance(m, X_test)\n",
    "# fe=fi[:15].cols.to_list()\n",
    "# fe"
   ]
  },
  {
   "cell_type": "code",
   "execution_count": 51,
   "id": "26c44859",
   "metadata": {
    "execution": {
     "iopub.execute_input": "2024-05-29T12:32:35.581657Z",
     "iopub.status.busy": "2024-05-29T12:32:35.581401Z",
     "iopub.status.idle": "2024-05-29T12:32:35.584945Z",
     "shell.execute_reply": "2024-05-29T12:32:35.584104Z"
    },
    "papermill": {
     "duration": 0.020225,
     "end_time": "2024-05-29T12:32:35.586737",
     "exception": false,
     "start_time": "2024-05-29T12:32:35.566512",
     "status": "completed"
    },
    "tags": []
   },
   "outputs": [],
   "source": [
    "# def plot_fi(fi):\n",
    "#     return fi.plot('cols', 'imp', 'barh', figsize=(12,7), legend=False)\n",
    "\n",
    "# plot_fi(fi[:15]);"
   ]
  },
  {
   "cell_type": "code",
   "execution_count": null,
   "id": "2c833767",
   "metadata": {
    "papermill": {
     "duration": 0.014031,
     "end_time": "2024-05-29T12:32:35.614987",
     "exception": false,
     "start_time": "2024-05-29T12:32:35.600956",
     "status": "completed"
    },
    "tags": []
   },
   "outputs": [],
   "source": []
  }
 ],
 "metadata": {
  "kaggle": {
   "accelerator": "gpu",
   "dataSources": [
    {
     "databundleVersionId": 8121328,
     "sourceId": 73278,
     "sourceType": "competition"
    },
    {
     "datasetId": 4219453,
     "sourceId": 7277740,
     "sourceType": "datasetVersion"
    },
    {
     "sourceId": 180407532,
     "sourceType": "kernelVersion"
    }
   ],
   "dockerImageVersionId": 30699,
   "isGpuEnabled": true,
   "isInternetEnabled": true,
   "language": "python",
   "sourceType": "notebook"
  },
  "kernelspec": {
   "display_name": "Python 3",
   "language": "python",
   "name": "python3"
  },
  "language_info": {
   "codemirror_mode": {
    "name": "ipython",
    "version": 3
   },
   "file_extension": ".py",
   "mimetype": "text/x-python",
   "name": "python",
   "nbconvert_exporter": "python",
   "pygments_lexer": "ipython3",
   "version": "3.10.13"
  },
  "papermill": {
   "default_parameters": {},
   "duration": 1611.880911,
   "end_time": "2024-05-29T12:32:37.155006",
   "environment_variables": {},
   "exception": null,
   "input_path": "__notebook__.ipynb",
   "output_path": "__notebook__.ipynb",
   "parameters": {},
   "start_time": "2024-05-29T12:05:45.274095",
   "version": "2.5.0"
  }
 },
 "nbformat": 4,
 "nbformat_minor": 5
}
