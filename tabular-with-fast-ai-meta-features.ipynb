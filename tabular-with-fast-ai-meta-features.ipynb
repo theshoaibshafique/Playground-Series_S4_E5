{
 "cells": [
  {
   "cell_type": "code",
   "execution_count": 1,
   "id": "cf5d05f4",
   "metadata": {
    "_cell_guid": "b1076dfc-b9ad-4769-8c92-a6c4dae69d19",
    "_uuid": "8f2839f25d086af736a60e9eeb907d3b93b6e0e5",
    "execution": {
     "iopub.execute_input": "2024-05-14T10:59:00.778002Z",
     "iopub.status.busy": "2024-05-14T10:59:00.777098Z",
     "iopub.status.idle": "2024-05-14T10:59:07.813591Z",
     "shell.execute_reply": "2024-05-14T10:59:07.812567Z"
    },
    "papermill": {
     "duration": 7.046864,
     "end_time": "2024-05-14T10:59:07.815983",
     "exception": false,
     "start_time": "2024-05-14T10:59:00.769119",
     "status": "completed"
    },
    "tags": []
   },
   "outputs": [],
   "source": [
    "from fastai.tabular.all import *"
   ]
  },
  {
   "cell_type": "code",
   "execution_count": 2,
   "id": "a3d3356c",
   "metadata": {
    "execution": {
     "iopub.execute_input": "2024-05-14T10:59:07.829880Z",
     "iopub.status.busy": "2024-05-14T10:59:07.829452Z",
     "iopub.status.idle": "2024-05-14T10:59:11.597288Z",
     "shell.execute_reply": "2024-05-14T10:59:11.596304Z"
    },
    "papermill": {
     "duration": 3.777335,
     "end_time": "2024-05-14T10:59:11.599779",
     "exception": false,
     "start_time": "2024-05-14T10:59:07.822444",
     "status": "completed"
    },
    "tags": []
   },
   "outputs": [],
   "source": [
    "train=pd.read_csv(\"/kaggle/input/playground-series-s4e5/train.csv\")\n",
    "test=pd.read_csv(\"/kaggle/input/playground-series-s4e5/test.csv\")\n",
    "\n",
    "submission=pd.read_csv(\"/kaggle/input/playground-series-s4e5/sample_submission.csv\")\n",
    "\n",
    "original=pd.read_csv(\"/kaggle/input/flood-prediction-factors/flood.csv\")\n",
    "\n",
    "train.drop(columns=[\"id\"],inplace=True)\n",
    "test.drop(columns=[\"id\"],inplace=True)\n",
    "\n",
    "train=pd.concat([train,original],axis='rows')\n",
    "train.reset_index(inplace=True,drop=True)\n",
    "\n",
    "target='FloodProbability'"
   ]
  },
  {
   "cell_type": "code",
   "execution_count": 3,
   "id": "2accaec2",
   "metadata": {
    "execution": {
     "iopub.execute_input": "2024-05-14T10:59:11.613451Z",
     "iopub.status.busy": "2024-05-14T10:59:11.613096Z",
     "iopub.status.idle": "2024-05-14T10:59:11.637183Z",
     "shell.execute_reply": "2024-05-14T10:59:11.636161Z"
    },
    "papermill": {
     "duration": 0.033421,
     "end_time": "2024-05-14T10:59:11.639577",
     "exception": false,
     "start_time": "2024-05-14T10:59:11.606156",
     "status": "completed"
    },
    "tags": []
   },
   "outputs": [
    {
     "data": {
      "text/html": [
       "<div>\n",
       "<style scoped>\n",
       "    .dataframe tbody tr th:only-of-type {\n",
       "        vertical-align: middle;\n",
       "    }\n",
       "\n",
       "    .dataframe tbody tr th {\n",
       "        vertical-align: top;\n",
       "    }\n",
       "\n",
       "    .dataframe thead th {\n",
       "        text-align: right;\n",
       "    }\n",
       "</style>\n",
       "<table border=\"1\" class=\"dataframe\">\n",
       "  <thead>\n",
       "    <tr style=\"text-align: right;\">\n",
       "      <th></th>\n",
       "      <th>MonsoonIntensity</th>\n",
       "      <th>TopographyDrainage</th>\n",
       "      <th>RiverManagement</th>\n",
       "      <th>Deforestation</th>\n",
       "      <th>Urbanization</th>\n",
       "      <th>ClimateChange</th>\n",
       "      <th>DamsQuality</th>\n",
       "      <th>Siltation</th>\n",
       "      <th>AgriculturalPractices</th>\n",
       "      <th>Encroachments</th>\n",
       "      <th>...</th>\n",
       "      <th>DrainageSystems</th>\n",
       "      <th>CoastalVulnerability</th>\n",
       "      <th>Landslides</th>\n",
       "      <th>Watersheds</th>\n",
       "      <th>DeterioratingInfrastructure</th>\n",
       "      <th>PopulationScore</th>\n",
       "      <th>WetlandLoss</th>\n",
       "      <th>InadequatePlanning</th>\n",
       "      <th>PoliticalFactors</th>\n",
       "      <th>FloodProbability</th>\n",
       "    </tr>\n",
       "  </thead>\n",
       "  <tbody>\n",
       "    <tr>\n",
       "      <th>0</th>\n",
       "      <td>5</td>\n",
       "      <td>8</td>\n",
       "      <td>5</td>\n",
       "      <td>8</td>\n",
       "      <td>6</td>\n",
       "      <td>4</td>\n",
       "      <td>4</td>\n",
       "      <td>3</td>\n",
       "      <td>3</td>\n",
       "      <td>4</td>\n",
       "      <td>...</td>\n",
       "      <td>5</td>\n",
       "      <td>3</td>\n",
       "      <td>3</td>\n",
       "      <td>5</td>\n",
       "      <td>4</td>\n",
       "      <td>7</td>\n",
       "      <td>5</td>\n",
       "      <td>7</td>\n",
       "      <td>3</td>\n",
       "      <td>0.445</td>\n",
       "    </tr>\n",
       "    <tr>\n",
       "      <th>1</th>\n",
       "      <td>6</td>\n",
       "      <td>7</td>\n",
       "      <td>4</td>\n",
       "      <td>4</td>\n",
       "      <td>8</td>\n",
       "      <td>8</td>\n",
       "      <td>3</td>\n",
       "      <td>5</td>\n",
       "      <td>4</td>\n",
       "      <td>6</td>\n",
       "      <td>...</td>\n",
       "      <td>7</td>\n",
       "      <td>2</td>\n",
       "      <td>0</td>\n",
       "      <td>3</td>\n",
       "      <td>5</td>\n",
       "      <td>3</td>\n",
       "      <td>3</td>\n",
       "      <td>4</td>\n",
       "      <td>3</td>\n",
       "      <td>0.450</td>\n",
       "    </tr>\n",
       "    <tr>\n",
       "      <th>2</th>\n",
       "      <td>6</td>\n",
       "      <td>5</td>\n",
       "      <td>6</td>\n",
       "      <td>7</td>\n",
       "      <td>3</td>\n",
       "      <td>7</td>\n",
       "      <td>1</td>\n",
       "      <td>5</td>\n",
       "      <td>4</td>\n",
       "      <td>5</td>\n",
       "      <td>...</td>\n",
       "      <td>7</td>\n",
       "      <td>3</td>\n",
       "      <td>7</td>\n",
       "      <td>5</td>\n",
       "      <td>6</td>\n",
       "      <td>8</td>\n",
       "      <td>2</td>\n",
       "      <td>3</td>\n",
       "      <td>3</td>\n",
       "      <td>0.530</td>\n",
       "    </tr>\n",
       "    <tr>\n",
       "      <th>3</th>\n",
       "      <td>3</td>\n",
       "      <td>4</td>\n",
       "      <td>6</td>\n",
       "      <td>5</td>\n",
       "      <td>4</td>\n",
       "      <td>8</td>\n",
       "      <td>4</td>\n",
       "      <td>7</td>\n",
       "      <td>6</td>\n",
       "      <td>8</td>\n",
       "      <td>...</td>\n",
       "      <td>2</td>\n",
       "      <td>4</td>\n",
       "      <td>7</td>\n",
       "      <td>4</td>\n",
       "      <td>4</td>\n",
       "      <td>6</td>\n",
       "      <td>5</td>\n",
       "      <td>7</td>\n",
       "      <td>5</td>\n",
       "      <td>0.535</td>\n",
       "    </tr>\n",
       "    <tr>\n",
       "      <th>4</th>\n",
       "      <td>5</td>\n",
       "      <td>3</td>\n",
       "      <td>2</td>\n",
       "      <td>6</td>\n",
       "      <td>4</td>\n",
       "      <td>4</td>\n",
       "      <td>3</td>\n",
       "      <td>3</td>\n",
       "      <td>3</td>\n",
       "      <td>3</td>\n",
       "      <td>...</td>\n",
       "      <td>2</td>\n",
       "      <td>2</td>\n",
       "      <td>6</td>\n",
       "      <td>6</td>\n",
       "      <td>4</td>\n",
       "      <td>1</td>\n",
       "      <td>2</td>\n",
       "      <td>3</td>\n",
       "      <td>5</td>\n",
       "      <td>0.415</td>\n",
       "    </tr>\n",
       "  </tbody>\n",
       "</table>\n",
       "<p>5 rows × 21 columns</p>\n",
       "</div>"
      ],
      "text/plain": [
       "   MonsoonIntensity  TopographyDrainage  RiverManagement  Deforestation  \\\n",
       "0                 5                   8                5              8   \n",
       "1                 6                   7                4              4   \n",
       "2                 6                   5                6              7   \n",
       "3                 3                   4                6              5   \n",
       "4                 5                   3                2              6   \n",
       "\n",
       "   Urbanization  ClimateChange  DamsQuality  Siltation  AgriculturalPractices  \\\n",
       "0             6              4            4          3                      3   \n",
       "1             8              8            3          5                      4   \n",
       "2             3              7            1          5                      4   \n",
       "3             4              8            4          7                      6   \n",
       "4             4              4            3          3                      3   \n",
       "\n",
       "   Encroachments  ...  DrainageSystems  CoastalVulnerability  Landslides  \\\n",
       "0              4  ...                5                     3           3   \n",
       "1              6  ...                7                     2           0   \n",
       "2              5  ...                7                     3           7   \n",
       "3              8  ...                2                     4           7   \n",
       "4              3  ...                2                     2           6   \n",
       "\n",
       "   Watersheds  DeterioratingInfrastructure  PopulationScore  WetlandLoss  \\\n",
       "0           5                            4                7            5   \n",
       "1           3                            5                3            3   \n",
       "2           5                            6                8            2   \n",
       "3           4                            4                6            5   \n",
       "4           6                            4                1            2   \n",
       "\n",
       "   InadequatePlanning  PoliticalFactors  FloodProbability  \n",
       "0                   7                 3             0.445  \n",
       "1                   4                 3             0.450  \n",
       "2                   3                 3             0.530  \n",
       "3                   7                 5             0.535  \n",
       "4                   3                 5             0.415  \n",
       "\n",
       "[5 rows x 21 columns]"
      ]
     },
     "execution_count": 3,
     "metadata": {},
     "output_type": "execute_result"
    }
   ],
   "source": [
    "train.head()"
   ]
  },
  {
   "cell_type": "code",
   "execution_count": 4,
   "id": "9878aba2",
   "metadata": {
    "execution": {
     "iopub.execute_input": "2024-05-14T10:59:11.654567Z",
     "iopub.status.busy": "2024-05-14T10:59:11.654247Z",
     "iopub.status.idle": "2024-05-14T11:28:35.744179Z",
     "shell.execute_reply": "2024-05-14T11:28:35.743315Z"
    },
    "papermill": {
     "duration": 1764.099786,
     "end_time": "2024-05-14T11:28:35.746727",
     "exception": false,
     "start_time": "2024-05-14T10:59:11.646941",
     "status": "completed"
    },
    "tags": []
   },
   "outputs": [
    {
     "name": "stdout",
     "output_type": "stream",
     "text": [
      "comnputing f_std\n",
      "comnputing f_mean\n",
      "comnputing f_max\n",
      "comnputing f_min\n",
      "comnputing f_median\n",
      "comnputing f_25th\n",
      "comnputing f_75th\n",
      "comnputing f_skew\n",
      "comnputing f_kurt\n",
      "comnputing f_10th\n",
      "comnputing f_20th\n",
      "comnputing f_30th\n",
      "comnputing f_40th\n",
      "comnputing f_50th\n",
      "comnputing f_60th\n",
      "comnputing f_70th\n",
      "comnputing f_80th\n",
      "comnputing f_90th\n",
      "comnputing f_harmonic\n",
      "comnputing f_geometric\n",
      "comnputing f_zscore\n",
      "computing Coefficient of Variation \n",
      "computing f_Quantile Coefficients of Skewness_75\n",
      "computing f_Quantile Coefficients of Skewness_25\n",
      "computing f_2ndMoment\n",
      "computing f_3rdMoment\n",
      "computing f_entropy\n"
     ]
    },
    {
     "name": "stderr",
     "output_type": "stream",
     "text": [
      "/opt/conda/lib/python3.10/site-packages/pandas/core/arraylike.py:399: RuntimeWarning: divide by zero encountered in log\n",
      "  result = getattr(ufunc, method)(*inputs, **kwargs)\n"
     ]
    },
    {
     "name": "stdout",
     "output_type": "stream",
     "text": [
      "comnputing f_std\n",
      "comnputing f_mean\n",
      "comnputing f_max\n",
      "comnputing f_min\n",
      "comnputing f_median\n",
      "comnputing f_25th\n",
      "comnputing f_75th\n",
      "comnputing f_skew\n",
      "comnputing f_kurt\n",
      "comnputing f_10th\n",
      "comnputing f_20th\n",
      "comnputing f_30th\n",
      "comnputing f_40th\n",
      "comnputing f_50th\n",
      "comnputing f_60th\n",
      "comnputing f_70th\n",
      "comnputing f_80th\n",
      "comnputing f_90th\n",
      "comnputing f_harmonic\n",
      "comnputing f_geometric\n",
      "comnputing f_zscore\n",
      "computing Coefficient of Variation \n",
      "computing f_Quantile Coefficients of Skewness_75\n",
      "computing f_Quantile Coefficients of Skewness_25\n",
      "computing f_2ndMoment\n",
      "computing f_3rdMoment\n",
      "computing f_entropy\n"
     ]
    },
    {
     "name": "stderr",
     "output_type": "stream",
     "text": [
      "/opt/conda/lib/python3.10/site-packages/pandas/core/arraylike.py:399: RuntimeWarning: divide by zero encountered in log\n",
      "  result = getattr(ufunc, method)(*inputs, **kwargs)\n"
     ]
    }
   ],
   "source": [
    "def meta_features(df, initial_features ):\n",
    "    \n",
    "    df[original.drop(columns=[target]).columns]=df[original.drop(columns=[target]).columns].astype(np.uint8)\n",
    "    df['fsum'] = df[initial_features].sum(axis=1) # for tree models\n",
    "    print('comnputing f_std')\n",
    "    df['f_std']  = df[initial_features].std(axis=1)\n",
    "    print('comnputing f_mean')\n",
    "    df['f_mean'] = df[initial_features].mean(axis=1)\n",
    "    print('comnputing f_max')\n",
    "    df['f_max']  = df[initial_features].max(axis=1)\n",
    "    print('comnputing f_min')\n",
    "    df['f_min']  = df[initial_features].min(axis=1)\n",
    "#     print('comnputing f_mode')\n",
    "#     df['f_mode'] = df[initial_features].mode(axis=1)[0]\n",
    "    print('comnputing f_median')\n",
    "    df['f_median'] = df[initial_features].median(axis=1)\n",
    "    print('comnputing f_25th')\n",
    "    df['f_25th'] = df[initial_features].quantile(0.25, axis=1)\n",
    "    print('comnputing f_75th')\n",
    "    df['f_75th'] = df[initial_features].quantile(0.75, axis=1)\n",
    "    print('comnputing f_skew')\n",
    "    df['f_skew'] = df[initial_features].skew(axis=1)\n",
    "    print('comnputing f_kurt')\n",
    "    df['f_kurt'] = df[initial_features].kurt(axis=1)\n",
    "    df['special1'] = df['fsum'].isin(np.arange(72, 76)) # for linear models\n",
    "    for i in range(10,100,10):\n",
    "        print(f'comnputing f_{i}th')\n",
    "        df[f'f_{i}th'] = df[initial_features].quantile(i/100, axis=1)\n",
    "    print('comnputing f_harmonic')\n",
    "    df['f_harmonic'] = len(initial_features) / df[initial_features].apply(lambda x: (1/x).mean(), axis=1)\n",
    "    print('comnputing f_geometric')\n",
    "    df['f_geometric'] = df[initial_features].apply(lambda x: x.prod()**(1/len(x)), axis=1)\n",
    "    print('comnputing f_zscore')\n",
    "    df['f_zscore'] = df[initial_features].apply(lambda x: (x - x.mean()) / x.std(), axis=1).mean(axis=1)\n",
    "    print('computing Coefficient of Variation ')\n",
    "    df['f_cv'] = df[initial_features].std(axis=1) / df[initial_features].mean(axis=1)\n",
    "    print('computing f_Quantile Coefficients of Skewness_75')\n",
    "    df['f_Quantile Coefficients of Skewness_75'] = (df[initial_features].quantile(0.75, axis=1) - df[initial_features].mean(axis=1)) / df[initial_features].std(axis=1)\n",
    "    print('computing f_Quantile Coefficients of Skewness_25')\n",
    "    df['f_Quantile Coefficients of Skewness_25'] = (df[initial_features].quantile(0.25, axis=1) - df[initial_features].mean(axis=1)) / df[initial_features].std(axis=1)\n",
    "    print('computing f_2ndMoment')\n",
    "    df['f_2ndMoment'] = df[initial_features].apply(lambda x: (x**2).mean(), axis=1)\n",
    "    print('computing f_3rdMoment')\n",
    "    df['f_3rdMoment'] = df[initial_features].apply(lambda x: (x**3).mean(), axis=1)\n",
    "    print('computing f_entropy')\n",
    "    df['f_entropy'] = df[initial_features].apply(lambda x: -1*(x*np.log(x)).sum(), axis=1)\n",
    "    \n",
    "    return df\n",
    "\n",
    "initial_features=test.columns\n",
    "train=meta_features(train,initial_features )\n",
    "test =meta_features(test, initial_features)"
   ]
  },
  {
   "cell_type": "code",
   "execution_count": 5,
   "id": "f0d381a7",
   "metadata": {
    "execution": {
     "iopub.execute_input": "2024-05-14T11:28:35.769749Z",
     "iopub.status.busy": "2024-05-14T11:28:35.769423Z",
     "iopub.status.idle": "2024-05-14T11:29:58.517046Z",
     "shell.execute_reply": "2024-05-14T11:29:58.516204Z"
    },
    "papermill": {
     "duration": 82.761885,
     "end_time": "2024-05-14T11:29:58.519579",
     "exception": false,
     "start_time": "2024-05-14T11:28:35.757694",
     "status": "completed"
    },
    "tags": []
   },
   "outputs": [],
   "source": [
    "train.to_csv(\"/kaggle/working/train_meta_f.csv\")\n",
    "test.to_csv(\"/kaggle/working/test_meta_f.csv\")"
   ]
  },
  {
   "cell_type": "code",
   "execution_count": 6,
   "id": "e9d81b88",
   "metadata": {
    "execution": {
     "iopub.execute_input": "2024-05-14T11:29:58.542593Z",
     "iopub.status.busy": "2024-05-14T11:29:58.542230Z",
     "iopub.status.idle": "2024-05-14T11:29:58.567109Z",
     "shell.execute_reply": "2024-05-14T11:29:58.566207Z"
    },
    "papermill": {
     "duration": 0.038389,
     "end_time": "2024-05-14T11:29:58.568974",
     "exception": false,
     "start_time": "2024-05-14T11:29:58.530585",
     "status": "completed"
    },
    "tags": []
   },
   "outputs": [
    {
     "data": {
      "text/html": [
       "<div>\n",
       "<style scoped>\n",
       "    .dataframe tbody tr th:only-of-type {\n",
       "        vertical-align: middle;\n",
       "    }\n",
       "\n",
       "    .dataframe tbody tr th {\n",
       "        vertical-align: top;\n",
       "    }\n",
       "\n",
       "    .dataframe thead th {\n",
       "        text-align: right;\n",
       "    }\n",
       "</style>\n",
       "<table border=\"1\" class=\"dataframe\">\n",
       "  <thead>\n",
       "    <tr style=\"text-align: right;\">\n",
       "      <th></th>\n",
       "      <th>MonsoonIntensity</th>\n",
       "      <th>TopographyDrainage</th>\n",
       "      <th>RiverManagement</th>\n",
       "      <th>Deforestation</th>\n",
       "      <th>Urbanization</th>\n",
       "      <th>ClimateChange</th>\n",
       "      <th>DamsQuality</th>\n",
       "      <th>Siltation</th>\n",
       "      <th>AgriculturalPractices</th>\n",
       "      <th>Encroachments</th>\n",
       "      <th>...</th>\n",
       "      <th>f_90th</th>\n",
       "      <th>f_harmonic</th>\n",
       "      <th>f_geometric</th>\n",
       "      <th>f_zscore</th>\n",
       "      <th>f_cv</th>\n",
       "      <th>f_Quantile Coefficients of Skewness_75</th>\n",
       "      <th>f_Quantile Coefficients of Skewness_25</th>\n",
       "      <th>f_2ndMoment</th>\n",
       "      <th>f_3rdMoment</th>\n",
       "      <th>f_entropy</th>\n",
       "    </tr>\n",
       "  </thead>\n",
       "  <tbody>\n",
       "    <tr>\n",
       "      <th>0</th>\n",
       "      <td>5</td>\n",
       "      <td>8</td>\n",
       "      <td>5</td>\n",
       "      <td>8</td>\n",
       "      <td>6</td>\n",
       "      <td>4</td>\n",
       "      <td>4</td>\n",
       "      <td>3</td>\n",
       "      <td>3</td>\n",
       "      <td>4</td>\n",
       "      <td>...</td>\n",
       "      <td>7.1</td>\n",
       "      <td>82.151589</td>\n",
       "      <td>4.397569</td>\n",
       "      <td>-7.771561e-17</td>\n",
       "      <td>0.372380</td>\n",
       "      <td>0.314252</td>\n",
       "      <td>-0.971324</td>\n",
       "      <td>25.00</td>\n",
       "      <td>70.70</td>\n",
       "      <td>-151.625</td>\n",
       "    </tr>\n",
       "    <tr>\n",
       "      <th>1</th>\n",
       "      <td>6</td>\n",
       "      <td>7</td>\n",
       "      <td>4</td>\n",
       "      <td>4</td>\n",
       "      <td>8</td>\n",
       "      <td>8</td>\n",
       "      <td>3</td>\n",
       "      <td>5</td>\n",
       "      <td>4</td>\n",
       "      <td>6</td>\n",
       "      <td>...</td>\n",
       "      <td>8.0</td>\n",
       "      <td>0.000000</td>\n",
       "      <td>0.000000</td>\n",
       "      <td>-6.661338e-17</td>\n",
       "      <td>0.488606</td>\n",
       "      <td>0.674955</td>\n",
       "      <td>-0.740273</td>\n",
       "      <td>27.10</td>\n",
       "      <td>73.60</td>\n",
       "      <td>-158.000</td>\n",
       "    </tr>\n",
       "    <tr>\n",
       "      <th>2</th>\n",
       "      <td>6</td>\n",
       "      <td>5</td>\n",
       "      <td>6</td>\n",
       "      <td>7</td>\n",
       "      <td>3</td>\n",
       "      <td>7</td>\n",
       "      <td>1</td>\n",
       "      <td>5</td>\n",
       "      <td>4</td>\n",
       "      <td>5</td>\n",
       "      <td>...</td>\n",
       "      <td>7.0</td>\n",
       "      <td>76.242342</td>\n",
       "      <td>4.468658</td>\n",
       "      <td>-8.881784e-17</td>\n",
       "      <td>0.390386</td>\n",
       "      <td>0.672735</td>\n",
       "      <td>-1.009102</td>\n",
       "      <td>28.05</td>\n",
       "      <td>94.65</td>\n",
       "      <td>-166.500</td>\n",
       "    </tr>\n",
       "    <tr>\n",
       "      <th>3</th>\n",
       "      <td>3</td>\n",
       "      <td>4</td>\n",
       "      <td>6</td>\n",
       "      <td>5</td>\n",
       "      <td>4</td>\n",
       "      <td>8</td>\n",
       "      <td>4</td>\n",
       "      <td>7</td>\n",
       "      <td>6</td>\n",
       "      <td>8</td>\n",
       "      <td>...</td>\n",
       "      <td>7.1</td>\n",
       "      <td>92.766427</td>\n",
       "      <td>4.933055</td>\n",
       "      <td>-1.089406e-16</td>\n",
       "      <td>0.315686</td>\n",
       "      <td>0.639633</td>\n",
       "      <td>-0.731010</td>\n",
       "      <td>29.60</td>\n",
       "      <td>91.40</td>\n",
       "      <td>-176.500</td>\n",
       "    </tr>\n",
       "    <tr>\n",
       "      <th>4</th>\n",
       "      <td>5</td>\n",
       "      <td>3</td>\n",
       "      <td>2</td>\n",
       "      <td>6</td>\n",
       "      <td>4</td>\n",
       "      <td>4</td>\n",
       "      <td>3</td>\n",
       "      <td>3</td>\n",
       "      <td>3</td>\n",
       "      <td>3</td>\n",
       "      <td>...</td>\n",
       "      <td>6.0</td>\n",
       "      <td>58.394161</td>\n",
       "      <td>3.275062</td>\n",
       "      <td>-9.992007e-17</td>\n",
       "      <td>0.416910</td>\n",
       "      <td>0.932788</td>\n",
       "      <td>-0.566336</td>\n",
       "      <td>15.10</td>\n",
       "      <td>70.50</td>\n",
       "      <td>-98.375</td>\n",
       "    </tr>\n",
       "  </tbody>\n",
       "</table>\n",
       "<p>5 rows × 50 columns</p>\n",
       "</div>"
      ],
      "text/plain": [
       "   MonsoonIntensity  TopographyDrainage  RiverManagement  Deforestation  \\\n",
       "0                 5                   8                5              8   \n",
       "1                 6                   7                4              4   \n",
       "2                 6                   5                6              7   \n",
       "3                 3                   4                6              5   \n",
       "4                 5                   3                2              6   \n",
       "\n",
       "   Urbanization  ClimateChange  DamsQuality  Siltation  AgriculturalPractices  \\\n",
       "0             6              4            4          3                      3   \n",
       "1             8              8            3          5                      4   \n",
       "2             3              7            1          5                      4   \n",
       "3             4              8            4          7                      6   \n",
       "4             4              4            3          3                      3   \n",
       "\n",
       "   Encroachments  ...  f_90th  f_harmonic  f_geometric      f_zscore  \\\n",
       "0              4  ...     7.1   82.151589     4.397569 -7.771561e-17   \n",
       "1              6  ...     8.0    0.000000     0.000000 -6.661338e-17   \n",
       "2              5  ...     7.0   76.242342     4.468658 -8.881784e-17   \n",
       "3              8  ...     7.1   92.766427     4.933055 -1.089406e-16   \n",
       "4              3  ...     6.0   58.394161     3.275062 -9.992007e-17   \n",
       "\n",
       "       f_cv  f_Quantile Coefficients of Skewness_75  \\\n",
       "0  0.372380                                0.314252   \n",
       "1  0.488606                                0.674955   \n",
       "2  0.390386                                0.672735   \n",
       "3  0.315686                                0.639633   \n",
       "4  0.416910                                0.932788   \n",
       "\n",
       "   f_Quantile Coefficients of Skewness_25  f_2ndMoment  f_3rdMoment  f_entropy  \n",
       "0                               -0.971324        25.00        70.70   -151.625  \n",
       "1                               -0.740273        27.10        73.60   -158.000  \n",
       "2                               -1.009102        28.05        94.65   -166.500  \n",
       "3                               -0.731010        29.60        91.40   -176.500  \n",
       "4                               -0.566336        15.10        70.50    -98.375  \n",
       "\n",
       "[5 rows x 50 columns]"
      ]
     },
     "execution_count": 6,
     "metadata": {},
     "output_type": "execute_result"
    }
   ],
   "source": [
    "train.head()"
   ]
  },
  {
   "cell_type": "code",
   "execution_count": 7,
   "id": "b69064a4",
   "metadata": {
    "execution": {
     "iopub.execute_input": "2024-05-14T11:29:58.593053Z",
     "iopub.status.busy": "2024-05-14T11:29:58.592335Z",
     "iopub.status.idle": "2024-05-14T11:29:58.910032Z",
     "shell.execute_reply": "2024-05-14T11:29:58.909158Z"
    },
    "papermill": {
     "duration": 0.332227,
     "end_time": "2024-05-14T11:29:58.912316",
     "exception": false,
     "start_time": "2024-05-14T11:29:58.580089",
     "status": "completed"
    },
    "tags": []
   },
   "outputs": [],
   "source": [
    "cont_names,cat_names = cont_cat_split(train, dep_var='FloodProbability')\n",
    "splits = RandomSplitter(valid_pct=0.2)(range_of(train))\n"
   ]
  },
  {
   "cell_type": "code",
   "execution_count": 8,
   "id": "5591543a",
   "metadata": {
    "execution": {
     "iopub.execute_input": "2024-05-14T11:29:58.935458Z",
     "iopub.status.busy": "2024-05-14T11:29:58.935129Z",
     "iopub.status.idle": "2024-05-14T11:30:01.367426Z",
     "shell.execute_reply": "2024-05-14T11:30:01.366374Z"
    },
    "papermill": {
     "duration": 2.446455,
     "end_time": "2024-05-14T11:30:01.369764",
     "exception": false,
     "start_time": "2024-05-14T11:29:58.923309",
     "status": "completed"
    },
    "tags": []
   },
   "outputs": [],
   "source": [
    "to = TabularPandas(train, procs=[Categorify, FillMissing,Normalize],\n",
    "                   cat_names = cat_names,\n",
    "                   cont_names = cont_names,\n",
    "                   y_names='FloodProbability',\n",
    "                   y_block=RegressionBlock(),\n",
    "                   splits=splits)"
   ]
  },
  {
   "cell_type": "code",
   "execution_count": 9,
   "id": "abfd6ea8",
   "metadata": {
    "execution": {
     "iopub.execute_input": "2024-05-14T11:30:01.393244Z",
     "iopub.status.busy": "2024-05-14T11:30:01.392936Z",
     "iopub.status.idle": "2024-05-14T11:30:02.235781Z",
     "shell.execute_reply": "2024-05-14T11:30:02.234910Z"
    },
    "papermill": {
     "duration": 0.857142,
     "end_time": "2024-05-14T11:30:02.238045",
     "exception": false,
     "start_time": "2024-05-14T11:30:01.380903",
     "status": "completed"
    },
    "tags": []
   },
   "outputs": [],
   "source": [
    "dls = to.dataloaders(bs=1024)\n",
    "test_dl = dls.test_dl(test)"
   ]
  },
  {
   "cell_type": "code",
   "execution_count": 10,
   "id": "3b07b9c4",
   "metadata": {
    "execution": {
     "iopub.execute_input": "2024-05-14T11:30:02.262507Z",
     "iopub.status.busy": "2024-05-14T11:30:02.262169Z",
     "iopub.status.idle": "2024-05-14T11:30:02.266135Z",
     "shell.execute_reply": "2024-05-14T11:30:02.265270Z"
    },
    "papermill": {
     "duration": 0.018897,
     "end_time": "2024-05-14T11:30:02.268063",
     "exception": false,
     "start_time": "2024-05-14T11:30:02.249166",
     "status": "completed"
    },
    "tags": []
   },
   "outputs": [],
   "source": [
    "# dls = TabularDataLoaders.from_df(df, y_names=\"FloodProbability\",bs=1024)"
   ]
  },
  {
   "cell_type": "code",
   "execution_count": 11,
   "id": "a04f3bf0",
   "metadata": {
    "execution": {
     "iopub.execute_input": "2024-05-14T11:30:02.291111Z",
     "iopub.status.busy": "2024-05-14T11:30:02.290847Z",
     "iopub.status.idle": "2024-05-14T11:30:02.294470Z",
     "shell.execute_reply": "2024-05-14T11:30:02.293657Z"
    },
    "papermill": {
     "duration": 0.017326,
     "end_time": "2024-05-14T11:30:02.296291",
     "exception": false,
     "start_time": "2024-05-14T11:30:02.278965",
     "status": "completed"
    },
    "tags": []
   },
   "outputs": [],
   "source": [
    "# dls.show_batch()"
   ]
  },
  {
   "cell_type": "code",
   "execution_count": 12,
   "id": "4c6c0221",
   "metadata": {
    "execution": {
     "iopub.execute_input": "2024-05-14T11:30:02.319060Z",
     "iopub.status.busy": "2024-05-14T11:30:02.318816Z",
     "iopub.status.idle": "2024-05-14T11:30:02.360710Z",
     "shell.execute_reply": "2024-05-14T11:30:02.359892Z"
    },
    "papermill": {
     "duration": 0.055235,
     "end_time": "2024-05-14T11:30:02.362655",
     "exception": false,
     "start_time": "2024-05-14T11:30:02.307420",
     "status": "completed"
    },
    "tags": []
   },
   "outputs": [],
   "source": [
    "learn = tabular_learner(dls, metrics=[accuracy,R2Score()],lr=0.01)"
   ]
  },
  {
   "cell_type": "code",
   "execution_count": 13,
   "id": "739922ba",
   "metadata": {
    "execution": {
     "iopub.execute_input": "2024-05-14T11:30:02.385542Z",
     "iopub.status.busy": "2024-05-14T11:30:02.384965Z",
     "iopub.status.idle": "2024-05-14T11:30:02.388267Z",
     "shell.execute_reply": "2024-05-14T11:30:02.387440Z"
    },
    "papermill": {
     "duration": 0.016909,
     "end_time": "2024-05-14T11:30:02.390192",
     "exception": false,
     "start_time": "2024-05-14T11:30:02.373283",
     "status": "completed"
    },
    "tags": []
   },
   "outputs": [],
   "source": [
    "# suggest_funcs = (minimum, steep, valley, slide)\n",
    "# learn.lr_find(suggest_funcs=suggest_funcs)"
   ]
  },
  {
   "cell_type": "code",
   "execution_count": 14,
   "id": "644afa70",
   "metadata": {
    "execution": {
     "iopub.execute_input": "2024-05-14T11:30:02.412689Z",
     "iopub.status.busy": "2024-05-14T11:30:02.412438Z",
     "iopub.status.idle": "2024-05-14T11:33:47.953229Z",
     "shell.execute_reply": "2024-05-14T11:33:47.952234Z"
    },
    "papermill": {
     "duration": 225.554308,
     "end_time": "2024-05-14T11:33:47.955200",
     "exception": false,
     "start_time": "2024-05-14T11:30:02.400892",
     "status": "completed"
    },
    "tags": []
   },
   "outputs": [
    {
     "data": {
      "text/html": [
       "\n",
       "<style>\n",
       "    /* Turns off some styling */\n",
       "    progress {\n",
       "        /* gets rid of default border in Firefox and Opera. */\n",
       "        border: none;\n",
       "        /* Needs to be in here for Safari polyfill so background images work as expected. */\n",
       "        background-size: auto;\n",
       "    }\n",
       "    progress:not([value]), progress:not([value])::-webkit-progress-bar {\n",
       "        background: repeating-linear-gradient(45deg, #7e7e7e, #7e7e7e 10px, #5c5c5c 10px, #5c5c5c 20px);\n",
       "    }\n",
       "    .progress-bar-interrupted, .progress-bar-interrupted::-webkit-progress-bar {\n",
       "        background: #F44336;\n",
       "    }\n",
       "</style>\n"
      ],
      "text/plain": [
       "<IPython.core.display.HTML object>"
      ]
     },
     "metadata": {},
     "output_type": "display_data"
    },
    {
     "data": {
      "text/html": [
       "<table border=\"1\" class=\"dataframe\">\n",
       "  <thead>\n",
       "    <tr style=\"text-align: left;\">\n",
       "      <th>epoch</th>\n",
       "      <th>train_loss</th>\n",
       "      <th>valid_loss</th>\n",
       "      <th>accuracy</th>\n",
       "      <th>r2_score</th>\n",
       "      <th>time</th>\n",
       "    </tr>\n",
       "  </thead>\n",
       "  <tbody>\n",
       "    <tr>\n",
       "      <td>0</td>\n",
       "      <td>0.000779</td>\n",
       "      <td>0.000519</td>\n",
       "      <td>0.000000</td>\n",
       "      <td>0.801736</td>\n",
       "      <td>00:17</td>\n",
       "    </tr>\n",
       "  </tbody>\n",
       "</table>"
      ],
      "text/plain": [
       "<IPython.core.display.HTML object>"
      ]
     },
     "metadata": {},
     "output_type": "display_data"
    },
    {
     "data": {
      "text/html": [
       "\n",
       "<style>\n",
       "    /* Turns off some styling */\n",
       "    progress {\n",
       "        /* gets rid of default border in Firefox and Opera. */\n",
       "        border: none;\n",
       "        /* Needs to be in here for Safari polyfill so background images work as expected. */\n",
       "        background-size: auto;\n",
       "    }\n",
       "    progress:not([value]), progress:not([value])::-webkit-progress-bar {\n",
       "        background: repeating-linear-gradient(45deg, #7e7e7e, #7e7e7e 10px, #5c5c5c 10px, #5c5c5c 20px);\n",
       "    }\n",
       "    .progress-bar-interrupted, .progress-bar-interrupted::-webkit-progress-bar {\n",
       "        background: #F44336;\n",
       "    }\n",
       "</style>\n"
      ],
      "text/plain": [
       "<IPython.core.display.HTML object>"
      ]
     },
     "metadata": {},
     "output_type": "display_data"
    },
    {
     "data": {
      "text/html": [
       "<table border=\"1\" class=\"dataframe\">\n",
       "  <thead>\n",
       "    <tr style=\"text-align: left;\">\n",
       "      <th>epoch</th>\n",
       "      <th>train_loss</th>\n",
       "      <th>valid_loss</th>\n",
       "      <th>accuracy</th>\n",
       "      <th>r2_score</th>\n",
       "      <th>time</th>\n",
       "    </tr>\n",
       "  </thead>\n",
       "  <tbody>\n",
       "    <tr>\n",
       "      <td>0</td>\n",
       "      <td>0.000432</td>\n",
       "      <td>0.000432</td>\n",
       "      <td>0.000000</td>\n",
       "      <td>0.834779</td>\n",
       "      <td>00:17</td>\n",
       "    </tr>\n",
       "    <tr>\n",
       "      <td>1</td>\n",
       "      <td>0.000430</td>\n",
       "      <td>0.000393</td>\n",
       "      <td>0.000000</td>\n",
       "      <td>0.849801</td>\n",
       "      <td>00:17</td>\n",
       "    </tr>\n",
       "    <tr>\n",
       "      <td>2</td>\n",
       "      <td>0.000426</td>\n",
       "      <td>0.000434</td>\n",
       "      <td>0.000000</td>\n",
       "      <td>0.834185</td>\n",
       "      <td>00:17</td>\n",
       "    </tr>\n",
       "    <tr>\n",
       "      <td>3</td>\n",
       "      <td>0.000440</td>\n",
       "      <td>0.000380</td>\n",
       "      <td>0.000000</td>\n",
       "      <td>0.854684</td>\n",
       "      <td>00:17</td>\n",
       "    </tr>\n",
       "    <tr>\n",
       "      <td>4</td>\n",
       "      <td>0.000413</td>\n",
       "      <td>0.000402</td>\n",
       "      <td>0.000000</td>\n",
       "      <td>0.846570</td>\n",
       "      <td>00:17</td>\n",
       "    </tr>\n",
       "    <tr>\n",
       "      <td>5</td>\n",
       "      <td>0.000388</td>\n",
       "      <td>0.000424</td>\n",
       "      <td>0.000000</td>\n",
       "      <td>0.837862</td>\n",
       "      <td>00:17</td>\n",
       "    </tr>\n",
       "    <tr>\n",
       "      <td>6</td>\n",
       "      <td>0.000383</td>\n",
       "      <td>0.000388</td>\n",
       "      <td>0.000000</td>\n",
       "      <td>0.851887</td>\n",
       "      <td>00:17</td>\n",
       "    </tr>\n",
       "    <tr>\n",
       "      <td>7</td>\n",
       "      <td>0.000369</td>\n",
       "      <td>0.000366</td>\n",
       "      <td>0.000000</td>\n",
       "      <td>0.860076</td>\n",
       "      <td>00:17</td>\n",
       "    </tr>\n",
       "    <tr>\n",
       "      <td>8</td>\n",
       "      <td>0.000357</td>\n",
       "      <td>0.000353</td>\n",
       "      <td>0.000000</td>\n",
       "      <td>0.865233</td>\n",
       "      <td>00:17</td>\n",
       "    </tr>\n",
       "    <tr>\n",
       "      <td>9</td>\n",
       "      <td>0.000355</td>\n",
       "      <td>0.000359</td>\n",
       "      <td>0.000000</td>\n",
       "      <td>0.862918</td>\n",
       "      <td>00:17</td>\n",
       "    </tr>\n",
       "    <tr>\n",
       "      <td>10</td>\n",
       "      <td>0.000349</td>\n",
       "      <td>0.000348</td>\n",
       "      <td>0.000000</td>\n",
       "      <td>0.866887</td>\n",
       "      <td>00:17</td>\n",
       "    </tr>\n",
       "    <tr>\n",
       "      <td>11</td>\n",
       "      <td>0.000349</td>\n",
       "      <td>0.000348</td>\n",
       "      <td>0.000000</td>\n",
       "      <td>0.867169</td>\n",
       "      <td>00:17</td>\n",
       "    </tr>\n",
       "  </tbody>\n",
       "</table>"
      ],
      "text/plain": [
       "<IPython.core.display.HTML object>"
      ]
     },
     "metadata": {},
     "output_type": "display_data"
    }
   ],
   "source": [
    "learn.fine_tune(12)"
   ]
  },
  {
   "cell_type": "code",
   "execution_count": 15,
   "id": "47366a36",
   "metadata": {
    "execution": {
     "iopub.execute_input": "2024-05-14T11:33:47.980373Z",
     "iopub.status.busy": "2024-05-14T11:33:47.979610Z",
     "iopub.status.idle": "2024-05-14T11:33:47.983955Z",
     "shell.execute_reply": "2024-05-14T11:33:47.983047Z"
    },
    "papermill": {
     "duration": 0.018728,
     "end_time": "2024-05-14T11:33:47.985842",
     "exception": false,
     "start_time": "2024-05-14T11:33:47.967114",
     "status": "completed"
    },
    "tags": []
   },
   "outputs": [],
   "source": [
    "# test_df = pd.read_csv('/kaggle/input/playground-series-s4e5/test.csv',index_col='id')\n",
    "# dl = learn.dls.test_dl(test_df)"
   ]
  },
  {
   "cell_type": "code",
   "execution_count": 16,
   "id": "23aaa1fb",
   "metadata": {
    "execution": {
     "iopub.execute_input": "2024-05-14T11:33:48.010769Z",
     "iopub.status.busy": "2024-05-14T11:33:48.009956Z",
     "iopub.status.idle": "2024-05-14T11:33:54.382263Z",
     "shell.execute_reply": "2024-05-14T11:33:54.381191Z"
    },
    "papermill": {
     "duration": 6.387218,
     "end_time": "2024-05-14T11:33:54.384526",
     "exception": false,
     "start_time": "2024-05-14T11:33:47.997308",
     "status": "completed"
    },
    "tags": []
   },
   "outputs": [
    {
     "data": {
      "text/html": [
       "\n",
       "<style>\n",
       "    /* Turns off some styling */\n",
       "    progress {\n",
       "        /* gets rid of default border in Firefox and Opera. */\n",
       "        border: none;\n",
       "        /* Needs to be in here for Safari polyfill so background images work as expected. */\n",
       "        background-size: auto;\n",
       "    }\n",
       "    progress:not([value]), progress:not([value])::-webkit-progress-bar {\n",
       "        background: repeating-linear-gradient(45deg, #7e7e7e, #7e7e7e 10px, #5c5c5c 10px, #5c5c5c 20px);\n",
       "    }\n",
       "    .progress-bar-interrupted, .progress-bar-interrupted::-webkit-progress-bar {\n",
       "        background: #F44336;\n",
       "    }\n",
       "</style>\n"
      ],
      "text/plain": [
       "<IPython.core.display.HTML object>"
      ]
     },
     "metadata": {},
     "output_type": "display_data"
    },
    {
     "data": {
      "text/html": [],
      "text/plain": [
       "<IPython.core.display.HTML object>"
      ]
     },
     "metadata": {},
     "output_type": "display_data"
    },
    {
     "data": {
      "text/plain": [
       "(tensor([[0.5762],\n",
       "         [0.4556],\n",
       "         [0.4529],\n",
       "         ...,\n",
       "         [0.6201],\n",
       "         [0.5538],\n",
       "         [0.5281]]),\n",
       " None)"
      ]
     },
     "execution_count": 16,
     "metadata": {},
     "output_type": "execute_result"
    }
   ],
   "source": [
    "preds = learn.get_preds(dl=test_dl)\n",
    "preds"
   ]
  },
  {
   "cell_type": "code",
   "execution_count": 17,
   "id": "ca3ffde3",
   "metadata": {
    "execution": {
     "iopub.execute_input": "2024-05-14T11:33:54.410971Z",
     "iopub.status.busy": "2024-05-14T11:33:54.410640Z",
     "iopub.status.idle": "2024-05-14T11:33:54.415131Z",
     "shell.execute_reply": "2024-05-14T11:33:54.414195Z"
    },
    "papermill": {
     "duration": 0.020033,
     "end_time": "2024-05-14T11:33:54.417194",
     "exception": false,
     "start_time": "2024-05-14T11:33:54.397161",
     "status": "completed"
    },
    "tags": []
   },
   "outputs": [],
   "source": [
    "preds = preds[0].cpu().numpy()"
   ]
  },
  {
   "cell_type": "code",
   "execution_count": 18,
   "id": "25e0224b",
   "metadata": {
    "execution": {
     "iopub.execute_input": "2024-05-14T11:33:54.444646Z",
     "iopub.status.busy": "2024-05-14T11:33:54.444277Z",
     "iopub.status.idle": "2024-05-14T11:33:54.626732Z",
     "shell.execute_reply": "2024-05-14T11:33:54.625745Z"
    },
    "papermill": {
     "duration": 0.198709,
     "end_time": "2024-05-14T11:33:54.628910",
     "exception": false,
     "start_time": "2024-05-14T11:33:54.430201",
     "status": "completed"
    },
    "tags": []
   },
   "outputs": [
    {
     "data": {
      "text/html": [
       "<div>\n",
       "<style scoped>\n",
       "    .dataframe tbody tr th:only-of-type {\n",
       "        vertical-align: middle;\n",
       "    }\n",
       "\n",
       "    .dataframe tbody tr th {\n",
       "        vertical-align: top;\n",
       "    }\n",
       "\n",
       "    .dataframe thead th {\n",
       "        text-align: right;\n",
       "    }\n",
       "</style>\n",
       "<table border=\"1\" class=\"dataframe\">\n",
       "  <thead>\n",
       "    <tr style=\"text-align: right;\">\n",
       "      <th></th>\n",
       "      <th>id</th>\n",
       "      <th>FloodProbability</th>\n",
       "    </tr>\n",
       "  </thead>\n",
       "  <tbody>\n",
       "    <tr>\n",
       "      <th>0</th>\n",
       "      <td>1117957</td>\n",
       "      <td>0.576213</td>\n",
       "    </tr>\n",
       "    <tr>\n",
       "      <th>1</th>\n",
       "      <td>1117958</td>\n",
       "      <td>0.455625</td>\n",
       "    </tr>\n",
       "    <tr>\n",
       "      <th>2</th>\n",
       "      <td>1117959</td>\n",
       "      <td>0.452855</td>\n",
       "    </tr>\n",
       "    <tr>\n",
       "      <th>3</th>\n",
       "      <td>1117960</td>\n",
       "      <td>0.467433</td>\n",
       "    </tr>\n",
       "    <tr>\n",
       "      <th>4</th>\n",
       "      <td>1117961</td>\n",
       "      <td>0.469709</td>\n",
       "    </tr>\n",
       "  </tbody>\n",
       "</table>\n",
       "</div>"
      ],
      "text/plain": [
       "        id  FloodProbability\n",
       "0  1117957          0.576213\n",
       "1  1117958          0.455625\n",
       "2  1117959          0.452855\n",
       "3  1117960          0.467433\n",
       "4  1117961          0.469709"
      ]
     },
     "execution_count": 18,
     "metadata": {},
     "output_type": "execute_result"
    }
   ],
   "source": [
    "sub = pd.read_csv(\"/kaggle/input/playground-series-s4e5/sample_submission.csv\")\n",
    "sub['FloodProbability'] = preds\n",
    "sub.head()"
   ]
  },
  {
   "cell_type": "code",
   "execution_count": 19,
   "id": "b3b9a247",
   "metadata": {
    "execution": {
     "iopub.execute_input": "2024-05-14T11:33:54.656276Z",
     "iopub.status.busy": "2024-05-14T11:33:54.655521Z",
     "iopub.status.idle": "2024-05-14T11:33:56.338608Z",
     "shell.execute_reply": "2024-05-14T11:33:56.337691Z"
    },
    "papermill": {
     "duration": 1.699222,
     "end_time": "2024-05-14T11:33:56.341076",
     "exception": false,
     "start_time": "2024-05-14T11:33:54.641854",
     "status": "completed"
    },
    "tags": []
   },
   "outputs": [],
   "source": [
    "sub.to_csv(\"/kaggle/working/submission.csv\",index=False)"
   ]
  },
  {
   "cell_type": "code",
   "execution_count": null,
   "id": "089d8938",
   "metadata": {
    "papermill": {
     "duration": 0.012008,
     "end_time": "2024-05-14T11:33:56.366075",
     "exception": false,
     "start_time": "2024-05-14T11:33:56.354067",
     "status": "completed"
    },
    "tags": []
   },
   "outputs": [],
   "source": []
  }
 ],
 "metadata": {
  "kaggle": {
   "accelerator": "gpu",
   "dataSources": [
    {
     "databundleVersionId": 8121328,
     "sourceId": 73278,
     "sourceType": "competition"
    },
    {
     "datasetId": 4219453,
     "sourceId": 7277740,
     "sourceType": "datasetVersion"
    }
   ],
   "dockerImageVersionId": 30698,
   "isGpuEnabled": true,
   "isInternetEnabled": true,
   "language": "python",
   "sourceType": "notebook"
  },
  "kernelspec": {
   "display_name": "Python 3",
   "language": "python",
   "name": "python3"
  },
  "language_info": {
   "codemirror_mode": {
    "name": "ipython",
    "version": 3
   },
   "file_extension": ".py",
   "mimetype": "text/x-python",
   "name": "python",
   "nbconvert_exporter": "python",
   "pygments_lexer": "ipython3",
   "version": "3.10.13"
  },
  "papermill": {
   "default_parameters": {},
   "duration": 2099.990654,
   "end_time": "2024-05-14T11:33:58.005586",
   "environment_variables": {},
   "exception": null,
   "input_path": "__notebook__.ipynb",
   "output_path": "__notebook__.ipynb",
   "parameters": {},
   "start_time": "2024-05-14T10:58:58.014932",
   "version": "2.5.0"
  }
 },
 "nbformat": 4,
 "nbformat_minor": 5
}
